{
  "metadata": {
    "kernelspec": {
      "display_name": "Python 3 (ipykernel)",
      "language": "python",
      "name": "python3"
    },
    "language_info": {
      "codemirror_mode": {
        "name": "ipython",
        "version": 3
      },
      "file_extension": ".py",
      "mimetype": "text/x-python",
      "name": "python",
      "nbconvert_exporter": "python",
      "pygments_lexer": "ipython3",
      "version": "3.9.13"
    },
    "colab": {
      "provenance": [],
      "include_colab_link": true
    },
    "accelerator": "GPU",
    "gpuClass": "standard"
  },
  "nbformat_minor": 5,
  "nbformat": 4,
  "cells": [
    {
      "cell_type": "markdown",
      "metadata": {
        "id": "view-in-github",
        "colab_type": "text"
      },
      "source": [
        "<a href=\"https://colab.research.google.com/github/Devansh98350/ML-Lab/blob/main/03.ipynb\" target=\"_parent\"><img src=\"https://colab.research.google.com/assets/colab-badge.svg\" alt=\"Open In Colab\"/></a>"
      ]
    },
    {
      "cell_type": "markdown",
      "source": [
        "#Importing Libraries"
      ],
      "metadata": {
        "id": "Jd417UyT38Ym"
      },
      "id": "Jd417UyT38Ym"
    },
    {
      "cell_type": "code",
      "source": [
        "#importing required libraries\n",
        "import tensorflow as tf\n",
        "import numpy as np\n",
        "import pandas as pd\n",
        "import matplotlib.pyplot as plt\n",
        "import seaborn as sns\n",
        "from pathlib import Path\n",
        "import glob\n",
        "import cv2\n",
        "import os\n",
        "\n",
        "tf.random.set_seed(23)"
      ],
      "metadata": {
        "id": "98vipGyMv7-v"
      },
      "execution_count": 1,
      "outputs": [],
      "id": "98vipGyMv7-v"
    },
    {
      "cell_type": "code",
      "source": [
        "from google.colab import drive\n",
        "drive.mount('/content/drive')"
      ],
      "metadata": {
        "colab": {
          "base_uri": "https://localhost:8080/"
        },
        "id": "C45giFMAwCUy",
        "outputId": "dba7e5d2-d82b-4fb1-d8ef-2974ac54f4d7"
      },
      "id": "C45giFMAwCUy",
      "execution_count": 2,
      "outputs": [
        {
          "output_type": "stream",
          "name": "stdout",
          "text": [
            "Mounted at /content/drive\n"
          ]
        }
      ]
    },
    {
      "cell_type": "markdown",
      "source": [
        "#Data Pre-processing"
      ],
      "metadata": {
        "id": "96u-cOBw4LQq"
      },
      "id": "96u-cOBw4LQq"
    },
    {
      "cell_type": "code",
      "source": [
        "#Reading directory of dataset\n",
        "data_dir = '/content/drive/MyDrive/Mini_Project/Mango_Dataset'"
      ],
      "metadata": {
        "id": "FZFS0fW3v7-y"
      },
      "execution_count": 3,
      "outputs": [],
      "id": "FZFS0fW3v7-y"
    },
    {
      "cell_type": "code",
      "source": [
        "#print all directories of dataset\n",
        "print(os.listdir(data_dir))"
      ],
      "metadata": {
        "colab": {
          "base_uri": "https://localhost:8080/"
        },
        "id": "NoeJLqZov7-z",
        "outputId": "e8161b79-d8a1-4f42-d804-14a2d098d994"
      },
      "execution_count": 4,
      "outputs": [
        {
          "output_type": "stream",
          "name": "stdout",
          "text": [
            "['Anthracnose', 'Healthy', 'Sooty_Mould', 'Powdery_Mildew', 'Gall_Midge', 'Die_Back', 'Cutting_Weevil', 'Bacterial_Canker', '.ipynb_checkpoints', 'train', 'test', 'valid']\n"
          ]
        }
      ],
      "id": "NoeJLqZov7-z"
    },
    {
      "cell_type": "code",
      "source": [
        "#Convert directories of data to a dataframe\n",
        "df = {\"img_path\":[],\"class_names\":[]}\n",
        "for class_names in os.listdir(data_dir):\n",
        "    for img_path in glob.glob(f\"{data_dir}/{class_names}/*\"):\n",
        "        df[\"img_path\"].append(img_path)\n",
        "        df[\"class_names\"].append(class_names)\n",
        "df = pd.DataFrame(df)\n",
        "   "
      ],
      "metadata": {
        "id": "t5mGRpQrv7-0"
      },
      "execution_count": 5,
      "outputs": [],
      "id": "t5mGRpQrv7-0"
    },
    {
      "cell_type": "code",
      "source": [
        "df.shape"
      ],
      "metadata": {
        "colab": {
          "base_uri": "https://localhost:8080/"
        },
        "id": "0X401hH4v7-1",
        "outputId": "9f19379d-2f1f-486d-892f-062d6539a769"
      },
      "execution_count": 6,
      "outputs": [
        {
          "output_type": "execute_result",
          "data": {
            "text/plain": [
              "(4000, 2)"
            ]
          },
          "metadata": {},
          "execution_count": 6
        }
      ],
      "id": "0X401hH4v7-1"
    },
    {
      "cell_type": "code",
      "source": [
        "df.sample(5)"
      ],
      "metadata": {
        "colab": {
          "base_uri": "https://localhost:8080/",
          "height": 206
        },
        "id": "4TRjHYoUv7-2",
        "outputId": "62008944-2921-453a-9f95-d630ca765767"
      },
      "execution_count": 7,
      "outputs": [
        {
          "output_type": "execute_result",
          "data": {
            "text/plain": [
              "                                               img_path       class_names\n",
              "1397  /content/drive/MyDrive/Mini_Project/Mango_Data...       Sooty_Mould\n",
              "332   /content/drive/MyDrive/Mini_Project/Mango_Data...       Anthracnose\n",
              "3603  /content/drive/MyDrive/Mini_Project/Mango_Data...  Bacterial_Canker\n",
              "542   /content/drive/MyDrive/Mini_Project/Mango_Data...           Healthy\n",
              "2633  /content/drive/MyDrive/Mini_Project/Mango_Data...          Die_Back"
            ],
            "text/html": [
              "\n",
              "  <div id=\"df-123d3947-f480-4844-b35c-a8c17ffa9724\">\n",
              "    <div class=\"colab-df-container\">\n",
              "      <div>\n",
              "<style scoped>\n",
              "    .dataframe tbody tr th:only-of-type {\n",
              "        vertical-align: middle;\n",
              "    }\n",
              "\n",
              "    .dataframe tbody tr th {\n",
              "        vertical-align: top;\n",
              "    }\n",
              "\n",
              "    .dataframe thead th {\n",
              "        text-align: right;\n",
              "    }\n",
              "</style>\n",
              "<table border=\"1\" class=\"dataframe\">\n",
              "  <thead>\n",
              "    <tr style=\"text-align: right;\">\n",
              "      <th></th>\n",
              "      <th>img_path</th>\n",
              "      <th>class_names</th>\n",
              "    </tr>\n",
              "  </thead>\n",
              "  <tbody>\n",
              "    <tr>\n",
              "      <th>1397</th>\n",
              "      <td>/content/drive/MyDrive/Mini_Project/Mango_Data...</td>\n",
              "      <td>Sooty_Mould</td>\n",
              "    </tr>\n",
              "    <tr>\n",
              "      <th>332</th>\n",
              "      <td>/content/drive/MyDrive/Mini_Project/Mango_Data...</td>\n",
              "      <td>Anthracnose</td>\n",
              "    </tr>\n",
              "    <tr>\n",
              "      <th>3603</th>\n",
              "      <td>/content/drive/MyDrive/Mini_Project/Mango_Data...</td>\n",
              "      <td>Bacterial_Canker</td>\n",
              "    </tr>\n",
              "    <tr>\n",
              "      <th>542</th>\n",
              "      <td>/content/drive/MyDrive/Mini_Project/Mango_Data...</td>\n",
              "      <td>Healthy</td>\n",
              "    </tr>\n",
              "    <tr>\n",
              "      <th>2633</th>\n",
              "      <td>/content/drive/MyDrive/Mini_Project/Mango_Data...</td>\n",
              "      <td>Die_Back</td>\n",
              "    </tr>\n",
              "  </tbody>\n",
              "</table>\n",
              "</div>\n",
              "      <button class=\"colab-df-convert\" onclick=\"convertToInteractive('df-123d3947-f480-4844-b35c-a8c17ffa9724')\"\n",
              "              title=\"Convert this dataframe to an interactive table.\"\n",
              "              style=\"display:none;\">\n",
              "        \n",
              "  <svg xmlns=\"http://www.w3.org/2000/svg\" height=\"24px\"viewBox=\"0 0 24 24\"\n",
              "       width=\"24px\">\n",
              "    <path d=\"M0 0h24v24H0V0z\" fill=\"none\"/>\n",
              "    <path d=\"M18.56 5.44l.94 2.06.94-2.06 2.06-.94-2.06-.94-.94-2.06-.94 2.06-2.06.94zm-11 1L8.5 8.5l.94-2.06 2.06-.94-2.06-.94L8.5 2.5l-.94 2.06-2.06.94zm10 10l.94 2.06.94-2.06 2.06-.94-2.06-.94-.94-2.06-.94 2.06-2.06.94z\"/><path d=\"M17.41 7.96l-1.37-1.37c-.4-.4-.92-.59-1.43-.59-.52 0-1.04.2-1.43.59L10.3 9.45l-7.72 7.72c-.78.78-.78 2.05 0 2.83L4 21.41c.39.39.9.59 1.41.59.51 0 1.02-.2 1.41-.59l7.78-7.78 2.81-2.81c.8-.78.8-2.07 0-2.86zM5.41 20L4 18.59l7.72-7.72 1.47 1.35L5.41 20z\"/>\n",
              "  </svg>\n",
              "      </button>\n",
              "      \n",
              "  <style>\n",
              "    .colab-df-container {\n",
              "      display:flex;\n",
              "      flex-wrap:wrap;\n",
              "      gap: 12px;\n",
              "    }\n",
              "\n",
              "    .colab-df-convert {\n",
              "      background-color: #E8F0FE;\n",
              "      border: none;\n",
              "      border-radius: 50%;\n",
              "      cursor: pointer;\n",
              "      display: none;\n",
              "      fill: #1967D2;\n",
              "      height: 32px;\n",
              "      padding: 0 0 0 0;\n",
              "      width: 32px;\n",
              "    }\n",
              "\n",
              "    .colab-df-convert:hover {\n",
              "      background-color: #E2EBFA;\n",
              "      box-shadow: 0px 1px 2px rgba(60, 64, 67, 0.3), 0px 1px 3px 1px rgba(60, 64, 67, 0.15);\n",
              "      fill: #174EA6;\n",
              "    }\n",
              "\n",
              "    [theme=dark] .colab-df-convert {\n",
              "      background-color: #3B4455;\n",
              "      fill: #D2E3FC;\n",
              "    }\n",
              "\n",
              "    [theme=dark] .colab-df-convert:hover {\n",
              "      background-color: #434B5C;\n",
              "      box-shadow: 0px 1px 3px 1px rgba(0, 0, 0, 0.15);\n",
              "      filter: drop-shadow(0px 1px 2px rgba(0, 0, 0, 0.3));\n",
              "      fill: #FFFFFF;\n",
              "    }\n",
              "  </style>\n",
              "\n",
              "      <script>\n",
              "        const buttonEl =\n",
              "          document.querySelector('#df-123d3947-f480-4844-b35c-a8c17ffa9724 button.colab-df-convert');\n",
              "        buttonEl.style.display =\n",
              "          google.colab.kernel.accessAllowed ? 'block' : 'none';\n",
              "\n",
              "        async function convertToInteractive(key) {\n",
              "          const element = document.querySelector('#df-123d3947-f480-4844-b35c-a8c17ffa9724');\n",
              "          const dataTable =\n",
              "            await google.colab.kernel.invokeFunction('convertToInteractive',\n",
              "                                                     [key], {});\n",
              "          if (!dataTable) return;\n",
              "\n",
              "          const docLinkHtml = 'Like what you see? Visit the ' +\n",
              "            '<a target=\"_blank\" href=https://colab.research.google.com/notebooks/data_table.ipynb>data table notebook</a>'\n",
              "            + ' to learn more about interactive tables.';\n",
              "          element.innerHTML = '';\n",
              "          dataTable['output_type'] = 'display_data';\n",
              "          await google.colab.output.renderOutput(dataTable, element);\n",
              "          const docLink = document.createElement('div');\n",
              "          docLink.innerHTML = docLinkHtml;\n",
              "          element.appendChild(docLink);\n",
              "        }\n",
              "      </script>\n",
              "    </div>\n",
              "  </div>\n",
              "  "
            ]
          },
          "metadata": {},
          "execution_count": 7
        }
      ],
      "id": "4TRjHYoUv7-2"
    },
    {
      "cell_type": "code",
      "source": [
        "#Divide the data into train,test and development 60% train, 20% test and 20% development\n",
        "from sklearn.model_selection import train_test_split\n",
        "\n",
        "train_size=0.6\n",
        "# In the first step we will split the data in training and remaining dataset\n",
        "train,rem = train_test_split(df, train_size=0.6)\n",
        "\n",
        "test_size = 0.5\n",
        "dev,test = train_test_split(rem, test_size=0.5)\n",
        "\n",
        "print(train.count())\n",
        "print(dev.count())\n",
        "print(test.count())"
      ],
      "metadata": {
        "colab": {
          "base_uri": "https://localhost:8080/"
        },
        "id": "SWuRqZIZv7-2",
        "outputId": "80aa88c0-1ed4-4980-f015-56db91274ce0"
      },
      "execution_count": 8,
      "outputs": [
        {
          "output_type": "stream",
          "name": "stdout",
          "text": [
            "img_path       2400\n",
            "class_names    2400\n",
            "dtype: int64\n",
            "img_path       800\n",
            "class_names    800\n",
            "dtype: int64\n",
            "img_path       800\n",
            "class_names    800\n",
            "dtype: int64\n"
          ]
        }
      ],
      "id": "SWuRqZIZv7-2"
    },
    {
      "cell_type": "code",
      "source": [
        "df['img_path'][0]"
      ],
      "metadata": {
        "colab": {
          "base_uri": "https://localhost:8080/",
          "height": 35
        },
        "id": "vMY016m1v7-3",
        "outputId": "fc7b8728-c8f0-4721-cd36-7964a5b0359c"
      },
      "execution_count": 9,
      "outputs": [
        {
          "output_type": "execute_result",
          "data": {
            "text/plain": [
              "'/content/drive/MyDrive/Mini_Project/Mango_Dataset/Anthracnose/20211008_124250 (Custom).jpg'"
            ],
            "application/vnd.google.colaboratory.intrinsic+json": {
              "type": "string"
            }
          },
          "metadata": {},
          "execution_count": 9
        }
      ],
      "id": "vMY016m1v7-3"
    },
    {
      "cell_type": "code",
      "source": [
        "#printing pixels of one image as a NumPy array of pixel values\n",
        "img = cv2.imread(df.img_path[0])\n",
        "print(img)"
      ],
      "metadata": {
        "colab": {
          "base_uri": "https://localhost:8080/"
        },
        "id": "PX8V6NYNv7-3",
        "outputId": "955d70cc-1acb-438d-99f8-2c76c0338a6f"
      },
      "execution_count": 12,
      "outputs": [
        {
          "output_type": "stream",
          "name": "stdout",
          "text": [
            "[[[229 214 205]\n",
            "  [229 214 205]\n",
            "  [229 214 205]\n",
            "  ...\n",
            "  [204 182 164]\n",
            "  [204 182 164]\n",
            "  [204 182 164]]\n",
            "\n",
            " [[229 214 205]\n",
            "  [229 214 205]\n",
            "  [229 214 205]\n",
            "  ...\n",
            "  [203 181 163]\n",
            "  [204 182 164]\n",
            "  [204 182 164]]\n",
            "\n",
            " [[229 214 205]\n",
            "  [229 214 205]\n",
            "  [229 214 205]\n",
            "  ...\n",
            "  [203 181 163]\n",
            "  [203 181 163]\n",
            "  [203 181 163]]\n",
            "\n",
            " ...\n",
            "\n",
            " [[209 189 172]\n",
            "  [209 189 172]\n",
            "  [208 188 171]\n",
            "  ...\n",
            "  [192 167 147]\n",
            "  [192 167 147]\n",
            "  [192 167 147]]\n",
            "\n",
            " [[209 189 172]\n",
            "  [209 189 172]\n",
            "  [208 188 171]\n",
            "  ...\n",
            "  [192 167 147]\n",
            "  [192 167 147]\n",
            "  [192 167 147]]\n",
            "\n",
            " [[209 189 172]\n",
            "  [209 189 172]\n",
            "  [208 188 171]\n",
            "  ...\n",
            "  [192 167 147]\n",
            "  [192 167 147]\n",
            "  [192 167 147]]]\n"
          ]
        }
      ],
      "id": "PX8V6NYNv7-3"
    },
    {
      "cell_type": "code",
      "source": [
        "#visualizing an image\n",
        "from PIL import Image\n",
        "import numpy as np\n",
        "from IPython.display import display\n",
        "\n",
        "# define the shape of the image\n",
        "height = 100\n",
        "width = 100\n",
        "channels = 3\n",
        "pixel_values = cv2.imread(df.img_path[0])\n",
        "image = Image.fromarray(pixel_values.astype('uint8'))\n",
        "display(image)"
      ],
      "metadata": {
        "colab": {
          "base_uri": "https://localhost:8080/",
          "height": 337
        },
        "id": "I6OirT7sv7-4",
        "outputId": "308801f7-8296-4d16-f064-12ad4cc9c0d3"
      },
      "execution_count": 16,
      "outputs": [
        {
          "output_type": "display_data",
          "data": {
            "text/plain": [
              "<PIL.Image.Image image mode=RGB size=240x320 at 0x7F67D9540E50>"
            ],
            "image/png": "[encoded data removed]"
          },
          "metadata": {}
        }
      ],
      "id": "I6OirT7sv7-4"
    },
    {
      "cell_type": "markdown",
      "source": [],
      "metadata": {
        "id": "-dU9FQjA5LtD"
      },
      "id": "-dU9FQjA5LtD"
    },
    {
      "cell_type": "markdown",
      "source": [
        "#Encoding the class Names"
      ],
      "metadata": {
        "id": "t-UquowI5Lrr"
      },
      "id": "t-UquowI5Lrr"
    },
    {
      "cell_type": "code",
      "source": [
        "#Label Encoding for classnames\n",
        "from sklearn.preprocessing import LabelEncoder \n",
        "\n",
        "Le = LabelEncoder()\n",
        "train[\"class_names\"] = Le.fit_transform(train[\"class_names\"])\n",
        "test[\"class_names\"] = Le.fit_transform(test[\"class_names\"])\n",
        "dev[\"class_names\"] = Le.fit_transform(dev[\"class_names\"])"
      ],
      "metadata": {
        "id": "BTmK4ugZv7-5"
      },
      "execution_count": null,
      "outputs": [],
      "id": "BTmK4ugZv7-5"
    },
    {
      "cell_type": "code",
      "source": [
        "train.sample(5)"
      ],
      "metadata": {
        "colab": {
          "base_uri": "https://localhost:8080/",
          "height": 206
        },
        "id": "1mQCcyLJv7-5",
        "outputId": "3fc63951-87c9-44f3-d067-65a85da87a71"
      },
      "execution_count": null,
      "outputs": [
        {
          "output_type": "execute_result",
          "data": {
            "text/plain": [
              "                                               img_path  class_names\n",
              "1551  /content/drive/MyDrive/Mini_Project/Mango_Data...            3\n",
              "265   /content/drive/MyDrive/Mini_Project/Mango_Data...            1\n",
              "2895  /content/drive/MyDrive/Mini_Project/Mango_Data...            5\n",
              "2415  /content/drive/MyDrive/Mini_Project/Mango_Data...            4\n",
              "1522  /content/drive/MyDrive/Mini_Project/Mango_Data...            3"
            ],
            "text/html": [
              "\n",
              "  <div id=\"df-1a82e119-cf30-4675-98f7-9e91804f9a52\">\n",
              "    <div class=\"colab-df-container\">\n",
              "      <div>\n",
              "<style scoped>\n",
              "    .dataframe tbody tr th:only-of-type {\n",
              "        vertical-align: middle;\n",
              "    }\n",
              "\n",
              "    .dataframe tbody tr th {\n",
              "        vertical-align: top;\n",
              "    }\n",
              "\n",
              "    .dataframe thead th {\n",
              "        text-align: right;\n",
              "    }\n",
              "</style>\n",
              "<table border=\"1\" class=\"dataframe\">\n",
              "  <thead>\n",
              "    <tr style=\"text-align: right;\">\n",
              "      <th></th>\n",
              "      <th>img_path</th>\n",
              "      <th>class_names</th>\n",
              "    </tr>\n",
              "  </thead>\n",
              "  <tbody>\n",
              "    <tr>\n",
              "      <th>1551</th>\n",
              "      <td>/content/drive/MyDrive/Mini_Project/Mango_Data...</td>\n",
              "      <td>3</td>\n",
              "    </tr>\n",
              "    <tr>\n",
              "      <th>265</th>\n",
              "      <td>/content/drive/MyDrive/Mini_Project/Mango_Data...</td>\n",
              "      <td>1</td>\n",
              "    </tr>\n",
              "    <tr>\n",
              "      <th>2895</th>\n",
              "      <td>/content/drive/MyDrive/Mini_Project/Mango_Data...</td>\n",
              "      <td>5</td>\n",
              "    </tr>\n",
              "    <tr>\n",
              "      <th>2415</th>\n",
              "      <td>/content/drive/MyDrive/Mini_Project/Mango_Data...</td>\n",
              "      <td>4</td>\n",
              "    </tr>\n",
              "    <tr>\n",
              "      <th>1522</th>\n",
              "      <td>/content/drive/MyDrive/Mini_Project/Mango_Data...</td>\n",
              "      <td>3</td>\n",
              "    </tr>\n",
              "  </tbody>\n",
              "</table>\n",
              "</div>\n",
              "      <button class=\"colab-df-convert\" onclick=\"convertToInteractive('df-1a82e119-cf30-4675-98f7-9e91804f9a52')\"\n",
              "              title=\"Convert this dataframe to an interactive table.\"\n",
              "              style=\"display:none;\">\n",
              "        \n",
              "  <svg xmlns=\"http://www.w3.org/2000/svg\" height=\"24px\"viewBox=\"0 0 24 24\"\n",
              "       width=\"24px\">\n",
              "    <path d=\"M0 0h24v24H0V0z\" fill=\"none\"/>\n",
              "    <path d=\"M18.56 5.44l.94 2.06.94-2.06 2.06-.94-2.06-.94-.94-2.06-.94 2.06-2.06.94zm-11 1L8.5 8.5l.94-2.06 2.06-.94-2.06-.94L8.5 2.5l-.94 2.06-2.06.94zm10 10l.94 2.06.94-2.06 2.06-.94-2.06-.94-.94-2.06-.94 2.06-2.06.94z\"/><path d=\"M17.41 7.96l-1.37-1.37c-.4-.4-.92-.59-1.43-.59-.52 0-1.04.2-1.43.59L10.3 9.45l-7.72 7.72c-.78.78-.78 2.05 0 2.83L4 21.41c.39.39.9.59 1.41.59.51 0 1.02-.2 1.41-.59l7.78-7.78 2.81-2.81c.8-.78.8-2.07 0-2.86zM5.41 20L4 18.59l7.72-7.72 1.47 1.35L5.41 20z\"/>\n",
              "  </svg>\n",
              "      </button>\n",
              "      \n",
              "  <style>\n",
              "    .colab-df-container {\n",
              "      display:flex;\n",
              "      flex-wrap:wrap;\n",
              "      gap: 12px;\n",
              "    }\n",
              "\n",
              "    .colab-df-convert {\n",
              "      background-color: #E8F0FE;\n",
              "      border: none;\n",
              "      border-radius: 50%;\n",
              "      cursor: pointer;\n",
              "      display: none;\n",
              "      fill: #1967D2;\n",
              "      height: 32px;\n",
              "      padding: 0 0 0 0;\n",
              "      width: 32px;\n",
              "    }\n",
              "\n",
              "    .colab-df-convert:hover {\n",
              "      background-color: #E2EBFA;\n",
              "      box-shadow: 0px 1px 2px rgba(60, 64, 67, 0.3), 0px 1px 3px 1px rgba(60, 64, 67, 0.15);\n",
              "      fill: #174EA6;\n",
              "    }\n",
              "\n",
              "    [theme=dark] .colab-df-convert {\n",
              "      background-color: #3B4455;\n",
              "      fill: #D2E3FC;\n",
              "    }\n",
              "\n",
              "    [theme=dark] .colab-df-convert:hover {\n",
              "      background-color: #434B5C;\n",
              "      box-shadow: 0px 1px 3px 1px rgba(0, 0, 0, 0.15);\n",
              "      filter: drop-shadow(0px 1px 2px rgba(0, 0, 0, 0.3));\n",
              "      fill: #FFFFFF;\n",
              "    }\n",
              "  </style>\n",
              "\n",
              "      <script>\n",
              "        const buttonEl =\n",
              "          document.querySelector('#df-1a82e119-cf30-4675-98f7-9e91804f9a52 button.colab-df-convert');\n",
              "        buttonEl.style.display =\n",
              "          google.colab.kernel.accessAllowed ? 'block' : 'none';\n",
              "\n",
              "        async function convertToInteractive(key) {\n",
              "          const element = document.querySelector('#df-1a82e119-cf30-4675-98f7-9e91804f9a52');\n",
              "          const dataTable =\n",
              "            await google.colab.kernel.invokeFunction('convertToInteractive',\n",
              "                                                     [key], {});\n",
              "          if (!dataTable) return;\n",
              "\n",
              "          const docLinkHtml = 'Like what you see? Visit the ' +\n",
              "            '<a target=\"_blank\" href=https://colab.research.google.com/notebooks/data_table.ipynb>data table notebook</a>'\n",
              "            + ' to learn more about interactive tables.';\n",
              "          element.innerHTML = '';\n",
              "          dataTable['output_type'] = 'display_data';\n",
              "          await google.colab.output.renderOutput(dataTable, element);\n",
              "          const docLink = document.createElement('div');\n",
              "          docLink.innerHTML = docLinkHtml;\n",
              "          element.appendChild(docLink);\n",
              "        }\n",
              "      </script>\n",
              "    </div>\n",
              "  </div>\n",
              "  "
            ]
          },
          "metadata": {},
          "execution_count": 13
        }
      ],
      "id": "1mQCcyLJv7-5"
    },
    {
      "cell_type": "code",
      "source": [
        "dev.sample(5)"
      ],
      "metadata": {
        "colab": {
          "base_uri": "https://localhost:8080/",
          "height": 206
        },
        "id": "iRi0Zjwdv7-6",
        "outputId": "7716880f-752d-4f12-f008-dc0b6610a270"
      },
      "execution_count": null,
      "outputs": [
        {
          "output_type": "execute_result",
          "data": {
            "text/plain": [
              "                                               img_path  class_names\n",
              "2339  /content/drive/MyDrive/Mini_Project/Mango_Data...            4\n",
              "988   /content/drive/MyDrive/Mini_Project/Mango_Data...            0\n",
              "2205  /content/drive/MyDrive/Mini_Project/Mango_Data...            4\n",
              "3995  /content/drive/MyDrive/Mini_Project/Mango_Data...            7\n",
              "2677  /content/drive/MyDrive/Mini_Project/Mango_Data...            5"
            ],
            "text/html": [
              "\n",
              "  <div id=\"df-8496e872-0c07-4cca-b701-919a3f8efbe9\">\n",
              "    <div class=\"colab-df-container\">\n",
              "      <div>\n",
              "<style scoped>\n",
              "    .dataframe tbody tr th:only-of-type {\n",
              "        vertical-align: middle;\n",
              "    }\n",
              "\n",
              "    .dataframe tbody tr th {\n",
              "        vertical-align: top;\n",
              "    }\n",
              "\n",
              "    .dataframe thead th {\n",
              "        text-align: right;\n",
              "    }\n",
              "</style>\n",
              "<table border=\"1\" class=\"dataframe\">\n",
              "  <thead>\n",
              "    <tr style=\"text-align: right;\">\n",
              "      <th></th>\n",
              "      <th>img_path</th>\n",
              "      <th>class_names</th>\n",
              "    </tr>\n",
              "  </thead>\n",
              "  <tbody>\n",
              "    <tr>\n",
              "      <th>2339</th>\n",
              "      <td>/content/drive/MyDrive/Mini_Project/Mango_Data...</td>\n",
              "      <td>4</td>\n",
              "    </tr>\n",
              "    <tr>\n",
              "      <th>988</th>\n",
              "      <td>/content/drive/MyDrive/Mini_Project/Mango_Data...</td>\n",
              "      <td>0</td>\n",
              "    </tr>\n",
              "    <tr>\n",
              "      <th>2205</th>\n",
              "      <td>/content/drive/MyDrive/Mini_Project/Mango_Data...</td>\n",
              "      <td>4</td>\n",
              "    </tr>\n",
              "    <tr>\n",
              "      <th>3995</th>\n",
              "      <td>/content/drive/MyDrive/Mini_Project/Mango_Data...</td>\n",
              "      <td>7</td>\n",
              "    </tr>\n",
              "    <tr>\n",
              "      <th>2677</th>\n",
              "      <td>/content/drive/MyDrive/Mini_Project/Mango_Data...</td>\n",
              "      <td>5</td>\n",
              "    </tr>\n",
              "  </tbody>\n",
              "</table>\n",
              "</div>\n",
              "      <button class=\"colab-df-convert\" onclick=\"convertToInteractive('df-8496e872-0c07-4cca-b701-919a3f8efbe9')\"\n",
              "              title=\"Convert this dataframe to an interactive table.\"\n",
              "              style=\"display:none;\">\n",
              "        \n",
              "  <svg xmlns=\"http://www.w3.org/2000/svg\" height=\"24px\"viewBox=\"0 0 24 24\"\n",
              "       width=\"24px\">\n",
              "    <path d=\"M0 0h24v24H0V0z\" fill=\"none\"/>\n",
              "    <path d=\"M18.56 5.44l.94 2.06.94-2.06 2.06-.94-2.06-.94-.94-2.06-.94 2.06-2.06.94zm-11 1L8.5 8.5l.94-2.06 2.06-.94-2.06-.94L8.5 2.5l-.94 2.06-2.06.94zm10 10l.94 2.06.94-2.06 2.06-.94-2.06-.94-.94-2.06-.94 2.06-2.06.94z\"/><path d=\"M17.41 7.96l-1.37-1.37c-.4-.4-.92-.59-1.43-.59-.52 0-1.04.2-1.43.59L10.3 9.45l-7.72 7.72c-.78.78-.78 2.05 0 2.83L4 21.41c.39.39.9.59 1.41.59.51 0 1.02-.2 1.41-.59l7.78-7.78 2.81-2.81c.8-.78.8-2.07 0-2.86zM5.41 20L4 18.59l7.72-7.72 1.47 1.35L5.41 20z\"/>\n",
              "  </svg>\n",
              "      </button>\n",
              "      \n",
              "  <style>\n",
              "    .colab-df-container {\n",
              "      display:flex;\n",
              "      flex-wrap:wrap;\n",
              "      gap: 12px;\n",
              "    }\n",
              "\n",
              "    .colab-df-convert {\n",
              "      background-color: #E8F0FE;\n",
              "      border: none;\n",
              "      border-radius: 50%;\n",
              "      cursor: pointer;\n",
              "      display: none;\n",
              "      fill: #1967D2;\n",
              "      height: 32px;\n",
              "      padding: 0 0 0 0;\n",
              "      width: 32px;\n",
              "    }\n",
              "\n",
              "    .colab-df-convert:hover {\n",
              "      background-color: #E2EBFA;\n",
              "      box-shadow: 0px 1px 2px rgba(60, 64, 67, 0.3), 0px 1px 3px 1px rgba(60, 64, 67, 0.15);\n",
              "      fill: #174EA6;\n",
              "    }\n",
              "\n",
              "    [theme=dark] .colab-df-convert {\n",
              "      background-color: #3B4455;\n",
              "      fill: #D2E3FC;\n",
              "    }\n",
              "\n",
              "    [theme=dark] .colab-df-convert:hover {\n",
              "      background-color: #434B5C;\n",
              "      box-shadow: 0px 1px 3px 1px rgba(0, 0, 0, 0.15);\n",
              "      filter: drop-shadow(0px 1px 2px rgba(0, 0, 0, 0.3));\n",
              "      fill: #FFFFFF;\n",
              "    }\n",
              "  </style>\n",
              "\n",
              "      <script>\n",
              "        const buttonEl =\n",
              "          document.querySelector('#df-8496e872-0c07-4cca-b701-919a3f8efbe9 button.colab-df-convert');\n",
              "        buttonEl.style.display =\n",
              "          google.colab.kernel.accessAllowed ? 'block' : 'none';\n",
              "\n",
              "        async function convertToInteractive(key) {\n",
              "          const element = document.querySelector('#df-8496e872-0c07-4cca-b701-919a3f8efbe9');\n",
              "          const dataTable =\n",
              "            await google.colab.kernel.invokeFunction('convertToInteractive',\n",
              "                                                     [key], {});\n",
              "          if (!dataTable) return;\n",
              "\n",
              "          const docLinkHtml = 'Like what you see? Visit the ' +\n",
              "            '<a target=\"_blank\" href=https://colab.research.google.com/notebooks/data_table.ipynb>data table notebook</a>'\n",
              "            + ' to learn more about interactive tables.';\n",
              "          element.innerHTML = '';\n",
              "          dataTable['output_type'] = 'display_data';\n",
              "          await google.colab.output.renderOutput(dataTable, element);\n",
              "          const docLink = document.createElement('div');\n",
              "          docLink.innerHTML = docLinkHtml;\n",
              "          element.appendChild(docLink);\n",
              "        }\n",
              "      </script>\n",
              "    </div>\n",
              "  </div>\n",
              "  "
            ]
          },
          "metadata": {},
          "execution_count": 14
        }
      ],
      "id": "iRi0Zjwdv7-6"
    },
    {
      "cell_type": "code",
      "source": [
        "test.sample(5)"
      ],
      "metadata": {
        "colab": {
          "base_uri": "https://localhost:8080/",
          "height": 206
        },
        "id": "BhqfVVv3v7-6",
        "outputId": "9877bc2a-57b7-40aa-8d0a-2325e4e09b12"
      },
      "execution_count": null,
      "outputs": [
        {
          "output_type": "execute_result",
          "data": {
            "text/plain": [
              "                                               img_path  class_names\n",
              "3607  /content/drive/MyDrive/Mini_Project/Mango_Data...            7\n",
              "80    /content/drive/MyDrive/Mini_Project/Mango_Data...            1\n",
              "482   /content/drive/MyDrive/Mini_Project/Mango_Data...            1\n",
              "616   /content/drive/MyDrive/Mini_Project/Mango_Data...            0\n",
              "1394  /content/drive/MyDrive/Mini_Project/Mango_Data...            2"
            ],
            "text/html": [
              "\n",
              "  <div id=\"df-4051e9e8-84f5-4896-9f79-88aa7ce921ee\">\n",
              "    <div class=\"colab-df-container\">\n",
              "      <div>\n",
              "<style scoped>\n",
              "    .dataframe tbody tr th:only-of-type {\n",
              "        vertical-align: middle;\n",
              "    }\n",
              "\n",
              "    .dataframe tbody tr th {\n",
              "        vertical-align: top;\n",
              "    }\n",
              "\n",
              "    .dataframe thead th {\n",
              "        text-align: right;\n",
              "    }\n",
              "</style>\n",
              "<table border=\"1\" class=\"dataframe\">\n",
              "  <thead>\n",
              "    <tr style=\"text-align: right;\">\n",
              "      <th></th>\n",
              "      <th>img_path</th>\n",
              "      <th>class_names</th>\n",
              "    </tr>\n",
              "  </thead>\n",
              "  <tbody>\n",
              "    <tr>\n",
              "      <th>3607</th>\n",
              "      <td>/content/drive/MyDrive/Mini_Project/Mango_Data...</td>\n",
              "      <td>7</td>\n",
              "    </tr>\n",
              "    <tr>\n",
              "      <th>80</th>\n",
              "      <td>/content/drive/MyDrive/Mini_Project/Mango_Data...</td>\n",
              "      <td>1</td>\n",
              "    </tr>\n",
              "    <tr>\n",
              "      <th>482</th>\n",
              "      <td>/content/drive/MyDrive/Mini_Project/Mango_Data...</td>\n",
              "      <td>1</td>\n",
              "    </tr>\n",
              "    <tr>\n",
              "      <th>616</th>\n",
              "      <td>/content/drive/MyDrive/Mini_Project/Mango_Data...</td>\n",
              "      <td>0</td>\n",
              "    </tr>\n",
              "    <tr>\n",
              "      <th>1394</th>\n",
              "      <td>/content/drive/MyDrive/Mini_Project/Mango_Data...</td>\n",
              "      <td>2</td>\n",
              "    </tr>\n",
              "  </tbody>\n",
              "</table>\n",
              "</div>\n",
              "      <button class=\"colab-df-convert\" onclick=\"convertToInteractive('df-4051e9e8-84f5-4896-9f79-88aa7ce921ee')\"\n",
              "              title=\"Convert this dataframe to an interactive table.\"\n",
              "              style=\"display:none;\">\n",
              "        \n",
              "  <svg xmlns=\"http://www.w3.org/2000/svg\" height=\"24px\"viewBox=\"0 0 24 24\"\n",
              "       width=\"24px\">\n",
              "    <path d=\"M0 0h24v24H0V0z\" fill=\"none\"/>\n",
              "    <path d=\"M18.56 5.44l.94 2.06.94-2.06 2.06-.94-2.06-.94-.94-2.06-.94 2.06-2.06.94zm-11 1L8.5 8.5l.94-2.06 2.06-.94-2.06-.94L8.5 2.5l-.94 2.06-2.06.94zm10 10l.94 2.06.94-2.06 2.06-.94-2.06-.94-.94-2.06-.94 2.06-2.06.94z\"/><path d=\"M17.41 7.96l-1.37-1.37c-.4-.4-.92-.59-1.43-.59-.52 0-1.04.2-1.43.59L10.3 9.45l-7.72 7.72c-.78.78-.78 2.05 0 2.83L4 21.41c.39.39.9.59 1.41.59.51 0 1.02-.2 1.41-.59l7.78-7.78 2.81-2.81c.8-.78.8-2.07 0-2.86zM5.41 20L4 18.59l7.72-7.72 1.47 1.35L5.41 20z\"/>\n",
              "  </svg>\n",
              "      </button>\n",
              "      \n",
              "  <style>\n",
              "    .colab-df-container {\n",
              "      display:flex;\n",
              "      flex-wrap:wrap;\n",
              "      gap: 12px;\n",
              "    }\n",
              "\n",
              "    .colab-df-convert {\n",
              "      background-color: #E8F0FE;\n",
              "      border: none;\n",
              "      border-radius: 50%;\n",
              "      cursor: pointer;\n",
              "      display: none;\n",
              "      fill: #1967D2;\n",
              "      height: 32px;\n",
              "      padding: 0 0 0 0;\n",
              "      width: 32px;\n",
              "    }\n",
              "\n",
              "    .colab-df-convert:hover {\n",
              "      background-color: #E2EBFA;\n",
              "      box-shadow: 0px 1px 2px rgba(60, 64, 67, 0.3), 0px 1px 3px 1px rgba(60, 64, 67, 0.15);\n",
              "      fill: #174EA6;\n",
              "    }\n",
              "\n",
              "    [theme=dark] .colab-df-convert {\n",
              "      background-color: #3B4455;\n",
              "      fill: #D2E3FC;\n",
              "    }\n",
              "\n",
              "    [theme=dark] .colab-df-convert:hover {\n",
              "      background-color: #434B5C;\n",
              "      box-shadow: 0px 1px 3px 1px rgba(0, 0, 0, 0.15);\n",
              "      filter: drop-shadow(0px 1px 2px rgba(0, 0, 0, 0.3));\n",
              "      fill: #FFFFFF;\n",
              "    }\n",
              "  </style>\n",
              "\n",
              "      <script>\n",
              "        const buttonEl =\n",
              "          document.querySelector('#df-4051e9e8-84f5-4896-9f79-88aa7ce921ee button.colab-df-convert');\n",
              "        buttonEl.style.display =\n",
              "          google.colab.kernel.accessAllowed ? 'block' : 'none';\n",
              "\n",
              "        async function convertToInteractive(key) {\n",
              "          const element = document.querySelector('#df-4051e9e8-84f5-4896-9f79-88aa7ce921ee');\n",
              "          const dataTable =\n",
              "            await google.colab.kernel.invokeFunction('convertToInteractive',\n",
              "                                                     [key], {});\n",
              "          if (!dataTable) return;\n",
              "\n",
              "          const docLinkHtml = 'Like what you see? Visit the ' +\n",
              "            '<a target=\"_blank\" href=https://colab.research.google.com/notebooks/data_table.ipynb>data table notebook</a>'\n",
              "            + ' to learn more about interactive tables.';\n",
              "          element.innerHTML = '';\n",
              "          dataTable['output_type'] = 'display_data';\n",
              "          await google.colab.output.renderOutput(dataTable, element);\n",
              "          const docLink = document.createElement('div');\n",
              "          docLink.innerHTML = docLinkHtml;\n",
              "          element.appendChild(docLink);\n",
              "        }\n",
              "      </script>\n",
              "    </div>\n",
              "  </div>\n",
              "  "
            ]
          },
          "metadata": {},
          "execution_count": 15
        }
      ],
      "id": "BhqfVVv3v7-6"
    },
    {
      "cell_type": "code",
      "source": [
        "#Assining required constants\n",
        "batch_size = 64\n",
        "epochs = 40\n",
        "img_channel = 3\n",
        "img_width, img_height = (48,48)"
      ],
      "metadata": {
        "id": "-UWxlDT_v7-7"
      },
      "execution_count": null,
      "outputs": [],
      "id": "-UWxlDT_v7-7"
    },
    {
      "cell_type": "code",
      "source": [
        "#One Hot encoding\n",
        "train_labels = tf.keras.utils.to_categorical(train[\"class_names\"])\n",
        "dev_labels = tf.keras.utils.to_categorical(dev[\"class_names\"])\n",
        "test_labels = tf.keras.utils.to_categorical(test[\"class_names\"])"
      ],
      "metadata": {
        "id": "eEB4K0Abv7-7"
      },
      "execution_count": null,
      "outputs": [],
      "id": "eEB4K0Abv7-7"
    },
    {
      "cell_type": "code",
      "source": [
        "train_labels"
      ],
      "metadata": {
        "colab": {
          "base_uri": "https://localhost:8080/"
        },
        "id": "qQOEp_hRv7-8",
        "outputId": "16e46821-7f5f-40ed-b2d9-d98ded5ed923"
      },
      "execution_count": null,
      "outputs": [
        {
          "output_type": "execute_result",
          "data": {
            "text/plain": [
              "array([[0., 0., 1., ..., 0., 0., 0.],\n",
              "       [0., 0., 0., ..., 1., 0., 0.],\n",
              "       [0., 0., 0., ..., 0., 0., 1.],\n",
              "       ...,\n",
              "       [0., 0., 0., ..., 1., 0., 0.],\n",
              "       [0., 0., 0., ..., 1., 0., 0.],\n",
              "       [0., 0., 1., ..., 0., 0., 0.]], dtype=float32)"
            ]
          },
          "metadata": {},
          "execution_count": 18
        }
      ],
      "id": "qQOEp_hRv7-8"
    },
    {
      "cell_type": "code",
      "source": [
        "dev_labels"
      ],
      "metadata": {
        "colab": {
          "base_uri": "https://localhost:8080/"
        },
        "id": "QbdeDIYKv7-8",
        "outputId": "c043fc1f-9aa0-4e5d-e3e8-b615fed79e0a"
      },
      "execution_count": null,
      "outputs": [
        {
          "output_type": "execute_result",
          "data": {
            "text/plain": [
              "array([[0., 0., 0., ..., 1., 0., 0.],\n",
              "       [0., 0., 0., ..., 0., 0., 0.],\n",
              "       [1., 0., 0., ..., 0., 0., 0.],\n",
              "       ...,\n",
              "       [0., 0., 0., ..., 0., 0., 1.],\n",
              "       [0., 0., 0., ..., 0., 0., 0.],\n",
              "       [0., 1., 0., ..., 0., 0., 0.]], dtype=float32)"
            ]
          },
          "metadata": {},
          "execution_count": 19
        }
      ],
      "id": "QbdeDIYKv7-8"
    },
    {
      "cell_type": "code",
      "source": [
        "test_labels"
      ],
      "metadata": {
        "colab": {
          "base_uri": "https://localhost:8080/"
        },
        "id": "DP__iQlqv7-9",
        "outputId": "11e756d9-27ea-49f7-8c5c-6479075d42e8"
      },
      "execution_count": null,
      "outputs": [
        {
          "output_type": "execute_result",
          "data": {
            "text/plain": [
              "array([[0., 0., 0., ..., 0., 0., 0.],\n",
              "       [0., 0., 1., ..., 0., 0., 0.],\n",
              "       [0., 0., 0., ..., 0., 0., 1.],\n",
              "       ...,\n",
              "       [0., 0., 0., ..., 0., 0., 1.],\n",
              "       [1., 0., 0., ..., 0., 0., 0.],\n",
              "       [0., 0., 0., ..., 0., 0., 0.]], dtype=float32)"
            ]
          },
          "metadata": {},
          "execution_count": 20
        }
      ],
      "id": "DP__iQlqv7-9"
    },
    {
      "cell_type": "code",
      "source": [
        "# Compute class weights \n",
        "classTotals = train_labels.sum(axis=0)\n",
        "classWeight = classTotals.max() / classTotals\n",
        "\n",
        "class_weight = {e : weight for e , weight in enumerate(classWeight)}\n",
        "print(class_weight)"
      ],
      "metadata": {
        "colab": {
          "base_uri": "https://localhost:8080/"
        },
        "id": "Lw-EKy8Yv7-9",
        "outputId": "81db8f1e-e933-4066-92f5-ad0ed1125529"
      },
      "execution_count": null,
      "outputs": [
        {
          "output_type": "stream",
          "name": "stdout",
          "text": [
            "{0: 1.0909091, 1: 1.0032154, 2: 1.0097088, 3: 1.0721649, 4: 1.0, 5: 1.0469799, 6: 1.0469799, 7: 1.0576271}\n"
          ]
        }
      ],
      "id": "Lw-EKy8Yv7-9"
    },
    {
      "cell_type": "markdown",
      "source": [
        "#Creating Tensorflow dataset object"
      ],
      "metadata": {
        "id": "r8GL4opSFgXY"
      },
      "id": "r8GL4opSFgXY"
    },
    {
      "cell_type": "code",
      "source": [
        "# Function used for Transformation\n",
        "\n",
        "def load(image , label):\n",
        "    image = tf.io.read_file(image)\n",
        "    image = tf.io.decode_jpeg(image , channels = 3)\n",
        "    return image , label"
      ],
      "metadata": {
        "id": "ss4E6EfYv7--"
      },
      "execution_count": null,
      "outputs": [],
      "id": "ss4E6EfYv7--"
    },
    {
      "cell_type": "code",
      "source": [
        "# Define IMAGE SIZE and BATCH SIZE \n",
        "IMG_SIZE = 96 \n",
        "BATCH_SIZE = 64\n",
        "\n",
        "# Basic Transformation\n",
        "resize = tf.keras.Sequential([\n",
        "    tf.keras.layers.experimental.preprocessing.Resizing(IMG_SIZE, IMG_SIZE)          \n",
        "])\n",
        "\n",
        "# Data Augmentation\n",
        "data_augmentation = tf.keras.Sequential([\n",
        "    tf.keras.layers.experimental.preprocessing.RandomFlip(\"horizontal\"),\n",
        "    tf.keras.layers.experimental.preprocessing.RandomRotation(0.1),\n",
        "    tf.keras.layers.experimental.preprocessing.RandomZoom(height_factor = (-0.1, -0.05))\n",
        "])"
      ],
      "metadata": {
        "id": "MiEbrkWtv7--"
      },
      "execution_count": null,
      "outputs": [],
      "id": "MiEbrkWtv7--"
    },
    {
      "cell_type": "code",
      "source": [
        "# Function used to Create a Tensorflow Data Object\n",
        "AUTOTUNE = tf.data.experimental.AUTOTUNE #to find a good allocation of its CPU budget across all parameters\n",
        "def get_dataset(paths , labels , train = True):\n",
        "    image_paths = tf.convert_to_tensor(paths)\n",
        "    labels = tf.convert_to_tensor(labels)\n",
        "\n",
        "    image_dataset = tf.data.Dataset.from_tensor_slices(image_paths)\n",
        "    label_dataset = tf.data.Dataset.from_tensor_slices(labels)\n",
        "\n",
        "    dataset = tf.data.Dataset.zip((image_dataset , label_dataset))\n",
        "\n",
        "    dataset = dataset.map(lambda image , label : load(image , label))\n",
        "    dataset = dataset.map(lambda image, label: (resize(image), label) , num_parallel_calls=AUTOTUNE)\n",
        "    dataset = dataset.shuffle(1000)\n",
        "    dataset = dataset.batch(BATCH_SIZE)\n",
        "\n",
        "    if train:\n",
        "        dataset = dataset.map(lambda image, label: (data_augmentation(image), label) , num_parallel_calls=AUTOTUNE)\n",
        "        dataset = dataset.repeat()\n",
        "    \n",
        "    return dataset"
      ],
      "metadata": {
        "id": "EwQj763mv7-_"
      },
      "execution_count": null,
      "outputs": [],
      "id": "EwQj763mv7-_"
    },
    {
      "cell_type": "code",
      "source": [
        "# Creating Train Dataset object and Verifying it\n",
        "%time \n",
        "train_dataset = get_dataset(train[\"img_path\"], train_labels)\n",
        "\n",
        "#iter() returns an iterator of the given object\n",
        "#next() returns the next number in an iterator\n",
        "image , label = next(iter(train_dataset)) \n",
        "print(image.shape)\n",
        "print(label.shape)"
      ],
      "metadata": {
        "colab": {
          "base_uri": "https://localhost:8080/"
        },
        "id": "nSxE34Iev7-_",
        "outputId": "5f3611f1-7001-418c-a033-1371ef45c2f0"
      },
      "execution_count": null,
      "outputs": [
        {
          "output_type": "stream",
          "name": "stdout",
          "text": [
            "CPU times: user 3 µs, sys: 0 ns, total: 3 µs\n",
            "Wall time: 7.87 µs\n",
            "(64, 96, 96, 3)\n",
            "(64, 8)\n"
          ]
        }
      ],
      "id": "nSxE34Iev7-_"
    },
    {
      "cell_type": "code",
      "source": [
        "# View a sample Training Image\n",
        "print(Le.inverse_transform(np.argmax(label , axis = 1))[0])\n",
        "plt.imshow((image[0].numpy()/255).reshape(96 , 96 , 3))"
      ],
      "metadata": {
        "colab": {
          "base_uri": "https://localhost:8080/",
          "height": 468
        },
        "id": "TtkmU3dvv7_A",
        "outputId": "5313562d-5b6b-4e47-dfd2-9babc6ea4acf"
      },
      "execution_count": null,
      "outputs": [
        {
          "output_type": "stream",
          "name": "stdout",
          "text": [
            "Cutting Weevil\n"
          ]
        },
        {
          "output_type": "execute_result",
          "data": {
            "text/plain": [
              "<matplotlib.image.AxesImage at 0x7f6dc1f33160>"
            ]
          },
          "metadata": {},
          "execution_count": 26
        },
        {
          "output_type": "display_data",
          "data": {
            "text/plain": [
              "<Figure size 640x480 with 1 Axes>"
            ],
            "image/png": "[encoded data removed]"
          },
          "metadata": {}
        }
      ],
      "id": "TtkmU3dvv7_A"
    },
    {
      "cell_type": "code",
      "source": [
        "# Creating dev Dataset object and Verifying it\n",
        "%time \n",
        "val_dataset = get_dataset(dev[\"img_path\"] , dev_labels , train = False)\n",
        "\n",
        "image , label = next(iter(val_dataset))\n",
        "print(image.shape)\n",
        "print(label.shape)"
      ],
      "metadata": {
        "colab": {
          "base_uri": "https://localhost:8080/"
        },
        "id": "q7A3XtPav7_A",
        "outputId": "6472bc7d-898c-447c-bf4a-b860f67d3cf9"
      },
      "execution_count": null,
      "outputs": [
        {
          "output_type": "stream",
          "name": "stdout",
          "text": [
            "CPU times: user 3 µs, sys: 0 ns, total: 3 µs\n",
            "Wall time: 7.15 µs\n",
            "(64, 96, 96, 3)\n",
            "(64, 8)\n"
          ]
        }
      ],
      "id": "q7A3XtPav7_A"
    },
    {
      "cell_type": "code",
      "source": [
        "# View a sample Validation Image\n",
        "print(Le.inverse_transform(np.argmax(label , axis = 1))[0])\n",
        "plt.imshow((image[0].numpy()/255).reshape(96 , 96 , 3))"
      ],
      "metadata": {
        "colab": {
          "base_uri": "https://localhost:8080/",
          "height": 468
        },
        "id": "sOKTU333v7_A",
        "outputId": "3cf092da-b3bb-41d1-e9f7-50c88c469328"
      },
      "execution_count": null,
      "outputs": [
        {
          "output_type": "stream",
          "name": "stdout",
          "text": [
            "Powdery Mildew\n"
          ]
        },
        {
          "output_type": "execute_result",
          "data": {
            "text/plain": [
              "<matplotlib.image.AxesImage at 0x7f6dc1ee4dc0>"
            ]
          },
          "metadata": {},
          "execution_count": 28
        },
        {
          "output_type": "display_data",
          "data": {
            "text/plain": [
              "<Figure size 640x480 with 1 Axes>"
            ],
            "image/png": "[encoded data removed]"
          },
          "metadata": {}
        }
      ],
      "id": "sOKTU333v7_A"
    },
    {
      "cell_type": "code",
      "source": [
        "# Creating test Dataset object and Verifying it\n",
        "%time \n",
        "test_dataset = get_dataset(test[\"img_path\"] , test_labels , train = False)\n",
        "\n",
        "image , label = next(iter(val_dataset))\n",
        "print(image.shape)\n",
        "print(label.shape)"
      ],
      "metadata": {
        "colab": {
          "base_uri": "https://localhost:8080/"
        },
        "id": "UYRM3JTiv7_B",
        "outputId": "80410c66-bf89-4e31-d15d-4a2387a5fc8a"
      },
      "execution_count": null,
      "outputs": [
        {
          "output_type": "stream",
          "name": "stdout",
          "text": [
            "CPU times: user 4 µs, sys: 0 ns, total: 4 µs\n",
            "Wall time: 7.87 µs\n",
            "(64, 96, 96, 3)\n",
            "(64, 8)\n"
          ]
        }
      ],
      "id": "UYRM3JTiv7_B"
    },
    {
      "cell_type": "code",
      "source": [
        "# View a sample Test Image\n",
        "print(Le.inverse_transform(np.argmax(label , axis = 1))[0])\n",
        "plt.imshow((image[0].numpy()/255).reshape(96 , 96 , 3))"
      ],
      "metadata": {
        "colab": {
          "base_uri": "https://localhost:8080/",
          "height": 468
        },
        "id": "ID_YSUNMv7_B",
        "outputId": "11bbbf5b-22cb-47aa-d0a5-f80c4c218cbf"
      },
      "execution_count": null,
      "outputs": [
        {
          "output_type": "stream",
          "name": "stdout",
          "text": [
            "Bacterial Canker\n"
          ]
        },
        {
          "output_type": "execute_result",
          "data": {
            "text/plain": [
              "<matplotlib.image.AxesImage at 0x7f6dc1d52a70>"
            ]
          },
          "metadata": {},
          "execution_count": 30
        },
        {
          "output_type": "display_data",
          "data": {
            "text/plain": [
              "<Figure size 640x480 with 1 Axes>"
            ],
            "image/png": "[encoded data removed]"
          },
          "metadata": {}
        }
      ],
      "id": "ID_YSUNMv7_B"
    },
    {
      "cell_type": "markdown",
      "source": [
        "#First Model"
      ],
      "metadata": {
        "id": "HnXB-N3e2QiR"
      },
      "id": "HnXB-N3e2QiR"
    },
    {
      "cell_type": "code",
      "source": [
        "# Building EfficientNet model\n",
        "from tensorflow.keras.applications import EfficientNetB2\n",
        "\n",
        "backbone = EfficientNetB2(\n",
        "    input_shape=(96, 96, 3),\n",
        "    include_top=False\n",
        ")\n",
        "\n",
        "model1 = tf.keras.Sequential([\n",
        "    backbone,\n",
        "    tf.keras.layers.Conv2D(128, 3, padding='same', activation='relu'),\n",
        "    tf.keras.layers.GlobalAveragePooling2D(),\n",
        "    tf.keras.layers.Dense(128, activation='relu'),\n",
        "    tf.keras.layers.Dropout(0.3),\n",
        "    tf.keras.layers.Dense(8, activation='sigmoid')\n",
        "])\n",
        "\n",
        "model1.summary()"
      ],
      "metadata": {
        "colab": {
          "base_uri": "https://localhost:8080/"
        },
        "id": "7jzuLXw6v7_C",
        "outputId": "9974ba3f-b82e-495e-a397-2e343b28666c"
      },
      "execution_count": null,
      "outputs": [
        {
          "output_type": "stream",
          "name": "stdout",
          "text": [
            "Downloading data from https://storage.googleapis.com/keras-applications/efficientnetb2_notop.h5\n",
            "31790344/31790344 [==============================] - 3s 0us/step\n",
            "Model: \"sequential_2\"\n",
            "_________________________________________________________________\n",
            " Layer (type)                Output Shape              Param #   \n",
            "=================================================================\n",
            " efficientnetb2 (Functional)  (None, 3, 3, 1408)       7768569   \n",
            "                                                                 \n",
            " conv2d (Conv2D)             (None, 3, 3, 128)         1622144   \n",
            "                                                                 \n",
            " global_average_pooling2d (G  (None, 128)              0         \n",
            " lobalAveragePooling2D)                                          \n",
            "                                                                 \n",
            " dense (Dense)               (None, 128)               16512     \n",
            "                                                                 \n",
            " dropout (Dropout)           (None, 128)               0         \n",
            "                                                                 \n",
            " dense_1 (Dense)             (None, 8)                 1032      \n",
            "                                                                 \n",
            "=================================================================\n",
            "Total params: 9,408,257\n",
            "Trainable params: 9,340,682\n",
            "Non-trainable params: 67,575\n",
            "_________________________________________________________________\n"
          ]
        }
      ],
      "id": "7jzuLXw6v7_C"
    },
    {
      "cell_type": "code",
      "source": [
        "# Compiling the model by providing the Optimizer , Loss and Metrics\n",
        "model1.compile(\n",
        "    optimizer=tf.keras.optimizers.Adam(learning_rate=0.001, beta_1=0.9, beta_2=0.999, epsilon=1e-07),\n",
        "    loss = 'binary_crossentropy',\n",
        "    metrics=['accuracy' , tf.keras.metrics.Precision(name='precision'),tf.keras.metrics.Recall(name='recall')]\n",
        ")"
      ],
      "metadata": {
        "id": "csONcqnwv7_C"
      },
      "execution_count": null,
      "outputs": [],
      "id": "csONcqnwv7_C"
    },
    {
      "cell_type": "code",
      "source": [
        "# Train the model\n",
        "history1 = model1.fit(\n",
        "    train_dataset,\n",
        "    steps_per_epoch=len(train_labels)//BATCH_SIZE,\n",
        "    epochs=12,\n",
        "    validation_data=val_dataset,\n",
        "    validation_steps = len(dev_labels)//BATCH_SIZE,\n",
        "    class_weight=class_weight\n",
        ")"
      ],
      "metadata": {
        "colab": {
          "base_uri": "https://localhost:8080/"
        },
        "id": "wfZxjZd-v7_C",
        "outputId": "e7b9ad36-1397-483b-da63-939a03941807"
      },
      "execution_count": null,
      "outputs": [
        {
          "output_type": "stream",
          "name": "stdout",
          "text": [
            "Epoch 1/12\n",
            "37/37 [==============================] - 496s 12s/step - loss: 0.1711 - accuracy: 0.7905 - precision: 0.7240 - recall: 0.7610 - val_loss: 0.0966 - val_accuracy: 0.8776 - val_precision: 0.9157 - val_recall: 0.8203\n",
            "Epoch 2/12\n",
            "37/37 [==============================] - 12s 316ms/step - loss: 0.0366 - accuracy: 0.9632 - precision: 0.9577 - recall: 0.9585 - val_loss: 0.1239 - val_accuracy: 0.9102 - val_precision: 0.9193 - val_recall: 0.9049\n",
            "Epoch 3/12\n",
            "37/37 [==============================] - 15s 405ms/step - loss: 0.0357 - accuracy: 0.9662 - precision: 0.9652 - recall: 0.9606 - val_loss: 0.0671 - val_accuracy: 0.9258 - val_precision: 0.9462 - val_recall: 0.9167\n",
            "Epoch 4/12\n",
            "37/37 [==============================] - 12s 327ms/step - loss: 0.0268 - accuracy: 0.9777 - precision: 0.9758 - recall: 0.9666 - val_loss: 0.0934 - val_accuracy: 0.9349 - val_precision: 0.9419 - val_recall: 0.9284\n",
            "Epoch 5/12\n",
            "37/37 [==============================] - 12s 319ms/step - loss: 0.0222 - accuracy: 0.9777 - precision: 0.9798 - recall: 0.9765 - val_loss: 0.0184 - val_accuracy: 0.9857 - val_precision: 0.9960 - val_recall: 0.9740\n",
            "Epoch 6/12\n",
            "37/37 [==============================] - 12s 319ms/step - loss: 0.0130 - accuracy: 0.9884 - precision: 0.9888 - recall: 0.9867 - val_loss: 0.0187 - val_accuracy: 0.9896 - val_precision: 0.9908 - val_recall: 0.9870\n",
            "Epoch 7/12\n",
            "37/37 [==============================] - 12s 342ms/step - loss: 0.0155 - accuracy: 0.9850 - precision: 0.9845 - recall: 0.9799 - val_loss: 0.4389 - val_accuracy: 0.9128 - val_precision: 0.9207 - val_recall: 0.9076\n",
            "Epoch 8/12\n",
            "37/37 [==============================] - 11s 305ms/step - loss: 0.0044 - accuracy: 0.9953 - precision: 0.9940 - recall: 0.9949 - val_loss: 0.0794 - val_accuracy: 0.9427 - val_precision: 0.9573 - val_recall: 0.9349\n",
            "Epoch 9/12\n",
            "37/37 [==============================] - 11s 301ms/step - loss: 0.0300 - accuracy: 0.9756 - precision: 0.9788 - recall: 0.9688 - val_loss: 0.0971 - val_accuracy: 0.9492 - val_precision: 0.9656 - val_recall: 0.9492\n",
            "Epoch 10/12\n",
            "37/37 [==============================] - 12s 314ms/step - loss: 0.0180 - accuracy: 0.9854 - precision: 0.9858 - recall: 0.9833 - val_loss: 0.0878 - val_accuracy: 0.9349 - val_precision: 0.9611 - val_recall: 0.9336\n",
            "Epoch 11/12\n",
            "37/37 [==============================] - 12s 332ms/step - loss: 0.0160 - accuracy: 0.9893 - precision: 0.9905 - recall: 0.9846 - val_loss: 0.0171 - val_accuracy: 0.9792 - val_precision: 0.9817 - val_recall: 0.9766\n",
            "Epoch 12/12\n",
            "37/37 [==============================] - 12s 338ms/step - loss: 0.0135 - accuracy: 0.9897 - precision: 0.9876 - recall: 0.9876 - val_loss: 0.1065 - val_accuracy: 0.9336 - val_precision: 0.9384 - val_recall: 0.9323\n"
          ]
        }
      ],
      "id": "wfZxjZd-v7_C"
    },
    {
      "cell_type": "code",
      "source": [
        "#Plotting graph\n",
        "import matplotlib.pyplot as plt\n",
        "plt.plot(history1.history['loss'],color='blue',label='train_loss')\n",
        "plt.plot(history1.history['val_loss'],color='orange',label='dev_loss')\n",
        "plt.legend(loc='upper left')\n",
        "plt.show()"
      ],
      "metadata": {
        "colab": {
          "base_uri": "https://localhost:8080/",
          "height": 430
        },
        "id": "dyxxErX8v7_D",
        "outputId": "e70fdcf9-f89c-482c-c0c4-b55cf612d850"
      },
      "execution_count": null,
      "outputs": [
        {
          "output_type": "display_data",
          "data": {
            "text/plain": [
              "<Figure size 640x480 with 1 Axes>"
            ],
            "image/png": "[encoded data removed]"
          },
          "metadata": {}
        }
      ],
      "id": "dyxxErX8v7_D"
    },
    {
      "cell_type": "markdown",
      "source": [
        "#Second Model"
      ],
      "metadata": {
        "id": "VNq4zCLw1N9M"
      },
      "id": "VNq4zCLw1N9M"
    },
    {
      "cell_type": "code",
      "source": [
        "#Second model\n",
        "from tensorflow.keras.applications import EfficientNetB2\n",
        "\n",
        "backbone = EfficientNetB2(\n",
        "    input_shape=(96, 96, 3),\n",
        "    include_top=False\n",
        ")\n",
        "\n",
        "model2 = tf.keras.Sequential([\n",
        "    backbone,\n",
        "    tf.keras.layers.Conv2D(256, 3, padding='same', activation='relu'),\n",
        "    tf.keras.layers.GlobalAveragePooling2D(),\n",
        "    tf.keras.layers.Dense(256, activation='relu'),\n",
        "    tf.keras.layers.Dropout(0.3),\n",
        "    tf.keras.layers.Dense(8, activation='sigmoid')\n",
        "])\n",
        "\n",
        "model2.summary()"
      ],
      "metadata": {
        "colab": {
          "base_uri": "https://localhost:8080/"
        },
        "id": "_hypZFnCv7_D",
        "outputId": "2d3fd552-fc02-418a-eaba-d4c8f0a0fa4b"
      },
      "execution_count": null,
      "outputs": [
        {
          "output_type": "stream",
          "name": "stdout",
          "text": [
            "Model: \"sequential_3\"\n",
            "_________________________________________________________________\n",
            " Layer (type)                Output Shape              Param #   \n",
            "=================================================================\n",
            " efficientnetb2 (Functional)  (None, 3, 3, 1408)       7768569   \n",
            "                                                                 \n",
            " conv2d_1 (Conv2D)           (None, 3, 3, 256)         3244288   \n",
            "                                                                 \n",
            " global_average_pooling2d_1   (None, 256)              0         \n",
            " (GlobalAveragePooling2D)                                        \n",
            "                                                                 \n",
            " dense_2 (Dense)             (None, 256)               65792     \n",
            "                                                                 \n",
            " dropout_1 (Dropout)         (None, 256)               0         \n",
            "                                                                 \n",
            " dense_3 (Dense)             (None, 8)                 2056      \n",
            "                                                                 \n",
            "=================================================================\n",
            "Total params: 11,080,705\n",
            "Trainable params: 11,013,130\n",
            "Non-trainable params: 67,575\n",
            "_________________________________________________________________\n"
          ]
        }
      ],
      "id": "_hypZFnCv7_D"
    },
    {
      "cell_type": "code",
      "source": [
        "model2.compile(\n",
        "    optimizer=tf.keras.optimizers.Adam(learning_rate=0.001, beta_1=0.9, beta_2=0.999, epsilon=1e-07),\n",
        "    loss = 'binary_crossentropy',\n",
        "    metrics=['accuracy' , tf.keras.metrics.Precision(name='precision'),tf.keras.metrics.Recall(name='recall')]\n",
        ")"
      ],
      "metadata": {
        "id": "p3F5Bzlcv7_E"
      },
      "execution_count": null,
      "outputs": [],
      "id": "p3F5Bzlcv7_E"
    },
    {
      "cell_type": "code",
      "source": [
        "history2 = model2.fit(\n",
        "    train_dataset,\n",
        "    steps_per_epoch=len(train_labels)//BATCH_SIZE,\n",
        "    epochs=12,\n",
        "    validation_data=val_dataset,\n",
        "    validation_steps = len(dev_labels)//BATCH_SIZE,\n",
        "    class_weight=class_weight\n",
        ")"
      ],
      "metadata": {
        "colab": {
          "base_uri": "https://localhost:8080/"
        },
        "id": "9JVu58D1v7_E",
        "outputId": "68ebe9d0-60ca-4db8-9ea2-0760d52d4829"
      },
      "execution_count": null,
      "outputs": [
        {
          "output_type": "stream",
          "name": "stdout",
          "text": [
            "Epoch 1/12\n",
            "37/37 [==============================] - 74s 341ms/step - loss: 0.1253 - accuracy: 0.8530 - precision: 0.8354 - recall: 0.8142 - val_loss: 0.2069 - val_accuracy: 0.7878 - val_precision: 0.8077 - val_recall: 0.7604\n",
            "Epoch 2/12\n",
            "37/37 [==============================] - 9s 239ms/step - loss: 0.0394 - accuracy: 0.9636 - precision: 0.9621 - recall: 0.9563 - val_loss: 0.2320 - val_accuracy: 0.8451 - val_precision: 0.8787 - val_recall: 0.8021\n",
            "Epoch 3/12\n",
            "37/37 [==============================] - 12s 326ms/step - loss: 0.0306 - accuracy: 0.9735 - precision: 0.9754 - recall: 0.9692 - val_loss: 0.0674 - val_accuracy: 0.9440 - val_precision: 0.9428 - val_recall: 0.9440\n",
            "Epoch 4/12\n",
            "37/37 [==============================] - 12s 318ms/step - loss: 0.0245 - accuracy: 0.9726 - precision: 0.9746 - recall: 0.9700 - val_loss: 0.0742 - val_accuracy: 0.9518 - val_precision: 0.9567 - val_recall: 0.9492\n",
            "Epoch 5/12\n",
            "37/37 [==============================] - 11s 313ms/step - loss: 0.0048 - accuracy: 0.9961 - precision: 0.9966 - recall: 0.9944 - val_loss: 0.0220 - val_accuracy: 0.9857 - val_precision: 0.9857 - val_recall: 0.9870\n",
            "Epoch 6/12\n",
            "37/37 [==============================] - 10s 276ms/step - loss: 0.0194 - accuracy: 0.9820 - precision: 0.9828 - recall: 0.9799 - val_loss: 0.0396 - val_accuracy: 0.9518 - val_precision: 0.9576 - val_recall: 0.9414\n",
            "Epoch 7/12\n",
            "37/37 [==============================] - 12s 325ms/step - loss: 0.0143 - accuracy: 0.9854 - precision: 0.9863 - recall: 0.9846 - val_loss: 0.0257 - val_accuracy: 0.9792 - val_precision: 0.9805 - val_recall: 0.9805\n",
            "Epoch 8/12\n",
            "37/37 [==============================] - 12s 337ms/step - loss: 0.0159 - accuracy: 0.9884 - precision: 0.9863 - recall: 0.9863 - val_loss: 0.0394 - val_accuracy: 0.9727 - val_precision: 0.9688 - val_recall: 0.9714\n",
            "Epoch 9/12\n",
            "37/37 [==============================] - 13s 348ms/step - loss: 0.0115 - accuracy: 0.9876 - precision: 0.9863 - recall: 0.9846 - val_loss: 0.0120 - val_accuracy: 0.9922 - val_precision: 0.9922 - val_recall: 0.9922\n",
            "Epoch 10/12\n",
            "37/37 [==============================] - 13s 351ms/step - loss: 0.0161 - accuracy: 0.9889 - precision: 0.9901 - recall: 0.9867 - val_loss: 0.1090 - val_accuracy: 0.9310 - val_precision: 0.9454 - val_recall: 0.9010\n",
            "Epoch 11/12\n",
            "37/37 [==============================] - 12s 323ms/step - loss: 0.0159 - accuracy: 0.9859 - precision: 0.9862 - recall: 0.9816 - val_loss: 0.0070 - val_accuracy: 0.9922 - val_precision: 0.9935 - val_recall: 0.9922\n",
            "Epoch 12/12\n",
            "37/37 [==============================] - 11s 307ms/step - loss: 0.0131 - accuracy: 0.9897 - precision: 0.9884 - recall: 0.9889 - val_loss: 0.0205 - val_accuracy: 0.9831 - val_precision: 0.9842 - val_recall: 0.9753\n"
          ]
        }
      ],
      "id": "9JVu58D1v7_E"
    },
    {
      "cell_type": "code",
      "source": [
        "#Plotting graph\n",
        "import matplotlib.pyplot as plt\n",
        "plt.plot(history2.history['loss'],color='blue',label='train_loss')\n",
        "plt.plot(history2.history['val_loss'],color='orange',label='dev_loss')\n",
        "plt.legend(loc='upper left')\n",
        "plt.show()"
      ],
      "metadata": {
        "colab": {
          "base_uri": "https://localhost:8080/",
          "height": 430
        },
        "id": "P14fk06Lv7_F",
        "outputId": "cee3a56f-b631-4a1b-d71c-1671867696ee"
      },
      "execution_count": null,
      "outputs": [
        {
          "output_type": "display_data",
          "data": {
            "text/plain": [
              "<Figure size 640x480 with 1 Axes>"
            ],
            "image/png": "[encoded data removed]"
          },
          "metadata": {}
        }
      ],
      "id": "P14fk06Lv7_F"
    },
    {
      "cell_type": "markdown",
      "source": [
        "#Third Model"
      ],
      "metadata": {
        "id": "He_78fOk2Wes"
      },
      "id": "He_78fOk2Wes"
    },
    {
      "cell_type": "code",
      "source": [
        "#Third model\n",
        "from tensorflow.keras.applications import EfficientNetB2\n",
        "\n",
        "backbone = EfficientNetB2(\n",
        "    input_shape=(96, 96, 3),\n",
        "    include_top=False\n",
        ")\n",
        "\n",
        "model3 = tf.keras.Sequential([\n",
        "    backbone,\n",
        "    tf.keras.layers.Conv2D(256, 4, padding='same', activation='relu'),\n",
        "   tf.keras.layers.MaxPooling2D((3,3)),\n",
        "     tf.keras.layers.Flatten(),\n",
        "    tf.keras.layers.Dense(256, activation='relu'),\n",
        "    tf.keras.layers.Dropout(0.3),\n",
        "    tf.keras.layers.Dense(8, activation='sigmoid')\n",
        "])\n",
        "\n",
        "model3.summary()"
      ],
      "metadata": {
        "colab": {
          "base_uri": "https://localhost:8080/"
        },
        "id": "U_9drb9mv7_F",
        "outputId": "70effc48-9cef-40b5-a723-8993bd4ecfdf"
      },
      "execution_count": null,
      "outputs": [
        {
          "output_type": "stream",
          "name": "stdout",
          "text": [
            "Model: \"sequential_4\"\n",
            "_________________________________________________________________\n",
            " Layer (type)                Output Shape              Param #   \n",
            "=================================================================\n",
            " efficientnetb2 (Functional)  (None, 3, 3, 1408)       7768569   \n",
            "                                                                 \n",
            " conv2d_2 (Conv2D)           (None, 3, 3, 256)         5767424   \n",
            "                                                                 \n",
            " max_pooling2d (MaxPooling2D  (None, 1, 1, 256)        0         \n",
            " )                                                               \n",
            "                                                                 \n",
            " flatten (Flatten)           (None, 256)               0         \n",
            "                                                                 \n",
            " dense_4 (Dense)             (None, 256)               65792     \n",
            "                                                                 \n",
            " dropout_2 (Dropout)         (None, 256)               0         \n",
            "                                                                 \n",
            " dense_5 (Dense)             (None, 8)                 2056      \n",
            "                                                                 \n",
            "=================================================================\n",
            "Total params: 13,603,841\n",
            "Trainable params: 13,536,266\n",
            "Non-trainable params: 67,575\n",
            "_________________________________________________________________\n"
          ]
        }
      ],
      "id": "U_9drb9mv7_F"
    },
    {
      "cell_type": "code",
      "source": [
        "model3.compile(\n",
        "    optimizer=tf.keras.optimizers.Adam(learning_rate=0.001, beta_1=0.9, beta_2=0.999, epsilon=1e-07),\n",
        "    loss = 'binary_crossentropy',\n",
        "    metrics=['accuracy' , tf.keras.metrics.Precision(name='precision'),tf.keras.metrics.Recall(name='recall')]\n",
        ")"
      ],
      "metadata": {
        "id": "5bajWcoKv7_F"
      },
      "execution_count": null,
      "outputs": [],
      "id": "5bajWcoKv7_F"
    },
    {
      "cell_type": "code",
      "source": [
        "history3 = model3.fit(\n",
        "    train_dataset,\n",
        "    steps_per_epoch=len(train_labels)//BATCH_SIZE,\n",
        "    epochs=12,\n",
        "    validation_data=val_dataset,\n",
        "    validation_steps = len(dev_labels)//BATCH_SIZE,\n",
        "    class_weight=class_weight\n",
        ")"
      ],
      "metadata": {
        "colab": {
          "base_uri": "https://localhost:8080/"
        },
        "id": "iNbGTW6jv7_G",
        "outputId": "b5693eef-2d57-4da7-bb39-4dd5493986d4"
      },
      "execution_count": null,
      "outputs": [
        {
          "output_type": "stream",
          "name": "stdout",
          "text": [
            "Epoch 1/12\n",
            "37/37 [==============================] - 77s 373ms/step - loss: 0.1301 - accuracy: 0.8370 - precision: 0.7990 - recall: 0.8108 - val_loss: 0.0788 - val_accuracy: 0.9323 - val_precision: 0.9439 - val_recall: 0.9193\n",
            "Epoch 2/12\n",
            "37/37 [==============================] - 13s 346ms/step - loss: 0.0330 - accuracy: 0.9688 - precision: 0.9662 - recall: 0.9658 - val_loss: 0.0231 - val_accuracy: 0.9674 - val_precision: 0.9761 - val_recall: 0.9557\n",
            "Epoch 3/12\n",
            "37/37 [==============================] - 12s 318ms/step - loss: 0.0368 - accuracy: 0.9670 - precision: 0.9661 - recall: 0.9623 - val_loss: 0.1615 - val_accuracy: 0.9062 - val_precision: 0.9248 - val_recall: 0.8490\n",
            "Epoch 4/12\n",
            "37/37 [==============================] - 13s 367ms/step - loss: 0.0211 - accuracy: 0.9799 - precision: 0.9806 - recall: 0.9760 - val_loss: 0.1229 - val_accuracy: 0.9141 - val_precision: 0.9428 - val_recall: 0.8802\n",
            "Epoch 5/12\n",
            "37/37 [==============================] - 11s 297ms/step - loss: 0.0256 - accuracy: 0.9760 - precision: 0.9798 - recall: 0.9752 - val_loss: 0.1117 - val_accuracy: 0.9401 - val_precision: 0.9546 - val_recall: 0.9310\n",
            "Epoch 6/12\n",
            "37/37 [==============================] - 12s 321ms/step - loss: 0.0215 - accuracy: 0.9790 - precision: 0.9806 - recall: 0.9760 - val_loss: 0.0235 - val_accuracy: 0.9857 - val_precision: 0.9907 - val_recall: 0.9714\n",
            "Epoch 7/12\n",
            "37/37 [==============================] - 12s 321ms/step - loss: 0.0098 - accuracy: 0.9889 - precision: 0.9906 - recall: 0.9880 - val_loss: 0.0341 - val_accuracy: 0.9779 - val_precision: 0.9814 - val_recall: 0.9609\n",
            "Epoch 8/12\n",
            "37/37 [==============================] - 13s 350ms/step - loss: 0.0161 - accuracy: 0.9837 - precision: 0.9879 - recall: 0.9799 - val_loss: 0.2713 - val_accuracy: 0.9388 - val_precision: 0.9676 - val_recall: 0.9336\n",
            "Epoch 9/12\n",
            "37/37 [==============================] - 13s 348ms/step - loss: 0.0106 - accuracy: 0.9910 - precision: 0.9901 - recall: 0.9880 - val_loss: 0.1073 - val_accuracy: 0.9701 - val_precision: 0.9670 - val_recall: 0.9544\n",
            "Epoch 10/12\n",
            "37/37 [==============================] - 13s 346ms/step - loss: 0.0350 - accuracy: 0.9803 - precision: 0.9768 - recall: 0.9752 - val_loss: 2.1235 - val_accuracy: 0.8724 - val_precision: 0.9129 - val_recall: 0.8190\n",
            "Epoch 11/12\n",
            "37/37 [==============================] - 12s 318ms/step - loss: 0.0270 - accuracy: 0.9799 - precision: 0.9790 - recall: 0.9765 - val_loss: 7.5821 - val_accuracy: 0.6836 - val_precision: 0.7894 - val_recall: 0.6589\n",
            "Epoch 12/12\n",
            "37/37 [==============================] - 12s 318ms/step - loss: 0.0504 - accuracy: 0.9752 - precision: 0.9749 - recall: 0.9658 - val_loss: 1.7205 - val_accuracy: 0.6471 - val_precision: 0.7333 - val_recall: 0.6445\n"
          ]
        }
      ],
      "id": "iNbGTW6jv7_G"
    },
    {
      "cell_type": "code",
      "source": [
        "#Plotting graph\n",
        "import matplotlib.pyplot as plt\n",
        "plt.plot(history3.history['loss'],color='blue',label='train_loss')\n",
        "plt.plot(history3.history['val_loss'],color='orange',label='dev_loss')\n",
        "plt.legend(loc='upper left')\n",
        "plt.show()"
      ],
      "metadata": {
        "colab": {
          "base_uri": "https://localhost:8080/",
          "height": 430
        },
        "id": "OjqbQskfv7_G",
        "outputId": "3e0c6242-d45b-4f42-cb30-180a55c35f38"
      },
      "execution_count": null,
      "outputs": [
        {
          "output_type": "display_data",
          "data": {
            "text/plain": [
              "<Figure size 640x480 with 1 Axes>"
            ],
            "image/png": "[encoded data removed]"
          },
          "metadata": {}
        }
      ],
      "id": "OjqbQskfv7_G"
    },
    {
      "cell_type": "markdown",
      "source": [
        "# Fourth Model"
      ],
      "metadata": {
        "id": "KtYDJBhs2d0i"
      },
      "id": "KtYDJBhs2d0i"
    },
    {
      "cell_type": "code",
      "source": [
        "#Fourth model\n",
        "from tensorflow.keras.applications import EfficientNetB2\n",
        "\n",
        "backbone = EfficientNetB2(\n",
        "    input_shape=(96, 96, 3),\n",
        "    include_top=False\n",
        ")\n",
        "\n",
        "model4 = tf.keras.Sequential([\n",
        "    backbone,\n",
        "    tf.keras.layers.Conv2D(256, 4, padding='same', activation='relu'),\n",
        "    tf.keras.layers.MaxPooling2D((3,3), padding='same'),\n",
        "    tf.keras.layers.Conv2D(256, 4, padding='same', activation='relu'),\n",
        "    tf.keras.layers.MaxPooling2D((3,3), padding='same'),\n",
        "    tf.keras.layers.Flatten(),\n",
        "    tf.keras.layers.Dense(256, activation='relu'),\n",
        "    tf.keras.layers.Dropout(0.3),\n",
        "    tf.keras.layers.Dense(8, activation='sigmoid')\n",
        "])\n",
        "\n",
        "model4.summary()\n"
      ],
      "metadata": {
        "id": "satPfRs_v7_H",
        "outputId": "c4f326f9-c3e4-4dda-9cd4-cde581053269"
      },
      "execution_count": null,
      "outputs": [
        {
          "name": "stdout",
          "output_type": "stream",
          "text": "Model: \"sequential_7\"\n\n_________________________________________________________________\n\n Layer (type)                Output Shape              Param #   \n\n=================================================================\n\n efficientnetb2 (Functional)  (None, 3, 3, 1408)       7768569   \n\n                                                                 \n\n conv2d_5 (Conv2D)           (None, 3, 3, 256)         5767424   \n\n                                                                 \n\n max_pooling2d_1 (MaxPooling  (None, 1, 1, 256)        0         \n\n 2D)                                                             \n\n                                                                 \n\n conv2d_6 (Conv2D)           (None, 1, 1, 256)         1048832   \n\n                                                                 \n\n max_pooling2d_2 (MaxPooling  (None, 1, 1, 256)        0         \n\n 2D)                                                             \n\n                                                                 \n\n flatten_1 (Flatten)         (None, 256)               0         \n\n                                                                 \n\n dense_10 (Dense)            (None, 256)               65792     \n\n                                                                 \n\n dropout_5 (Dropout)         (None, 256)               0         \n\n                                                                 \n\n dense_11 (Dense)            (None, 8)                 2056      \n\n                                                                 \n\n=================================================================\n\nTotal params: 14,652,673\n\nTrainable params: 14,585,098\n\nNon-trainable params: 67,575\n\n_________________________________________________________________\n"
        }
      ],
      "id": "satPfRs_v7_H"
    },
    {
      "cell_type": "code",
      "source": [
        "model4.compile(\n",
        "    optimizer=tf.keras.optimizers.Adam(learning_rate=0.003, beta_1=0.9, beta_2=0.999, epsilon=1e-07),\n",
        "    loss = 'binary_crossentropy',\n",
        "    metrics=['accuracy' , tf.keras.metrics.Precision(name='precision'),tf.keras.metrics.Recall(name='recall')]\n",
        ")"
      ],
      "metadata": {
        "id": "3a4h86E2v7_H"
      },
      "execution_count": null,
      "outputs": [],
      "id": "3a4h86E2v7_H"
    },
    {
      "cell_type": "code",
      "source": [
        "history4 = model4.fit(\n",
        "    train_dataset,\n",
        "    steps_per_epoch=len(train_labels)//BATCH_SIZE,\n",
        "    epochs=10,\n",
        "    validation_data=val_dataset,\n",
        "    validation_steps = len(dev_labels)//BATCH_SIZE,\n",
        "    class_weight=class_weight\n",
        ")"
      ],
      "metadata": {
        "id": "t7Rco1S_v7_H",
        "outputId": "6077e346-fffe-4b94-daf7-291c02be2043"
      },
      "execution_count": null,
      "outputs": [
        {
          "name": "stdout",
          "output_type": "stream",
          "text": "Epoch 1/10\n\n37/37 [==============================] - 244s 6s/step - loss: 0.2097 - accuracy: 0.7272 - precision: 0.7650 - recall: 0.6655 - val_loss: 1.0106 - val_accuracy: 0.1445 - val_precision: 0.1342 - val_recall: 0.0898\n\nEpoch 2/10\n\n37/37 [==============================] - 1103s 31s/step - loss: 0.0963 - accuracy: 0.8985 - precision: 0.9183 - recall: 0.8754 - val_loss: 16.3941 - val_accuracy: 0.2617 - val_precision: 0.2703 - val_recall: 0.2383\n\nEpoch 3/10\n\n37/37 [==============================] - 221s 6s/step - loss: 0.0810 - accuracy: 0.9204 - precision: 0.9366 - recall: 0.8981 - val_loss: 14.0574 - val_accuracy: 0.1667 - val_precision: 0.1688 - val_recall: 0.1849\n\nEpoch 4/10\n\n37/37 [==============================] - 219s 6s/step - loss: 0.0606 - accuracy: 0.9422 - precision: 0.9506 - recall: 0.9302 - val_loss: 7.9841 - val_accuracy: 0.5560 - val_precision: 0.6127 - val_recall: 0.5169\n\nEpoch 5/10\n\n37/37 [==============================] - 212s 6s/step - loss: 0.0468 - accuracy: 0.9521 - precision: 0.9589 - recall: 0.9379 - val_loss: 1.3565 - val_accuracy: 0.7773 - val_precision: 0.7876 - val_recall: 0.7578\n\nEpoch 6/10\n\n37/37 [==============================] - 209s 6s/step - loss: 0.0479 - accuracy: 0.9568 - precision: 0.9631 - recall: 0.9491 - val_loss: 0.3691 - val_accuracy: 0.9089 - val_precision: 0.9068 - val_recall: 0.8620\n\nEpoch 7/10\n\n37/37 [==============================] - 209s 6s/step - loss: 0.0591 - accuracy: 0.9439 - precision: 0.9534 - recall: 0.9285 - val_loss: 0.5682 - val_accuracy: 0.8906 - val_precision: 0.8937 - val_recall: 0.8867\n\nEpoch 8/10\n\n37/37 [==============================] - 220s 6s/step - loss: 0.0349 - accuracy: 0.9662 - precision: 0.9727 - recall: 0.9598 - val_loss: 0.0300 - val_accuracy: 0.9766 - val_precision: 0.9777 - val_recall: 0.9714\n\nEpoch 9/10\n\n37/37 [==============================] - 219s 6s/step - loss: 0.0710 - accuracy: 0.9311 - precision: 0.9525 - recall: 0.9182 - val_loss: 0.7087 - val_accuracy: 0.6602 - val_precision: 0.6605 - val_recall: 0.6536\n\nEpoch 10/10\n\n37/37 [==============================] - 217s 6s/step - loss: 0.0358 - accuracy: 0.9619 - precision: 0.9668 - recall: 0.9585 - val_loss: 1.2518 - val_accuracy: 0.6875 - val_precision: 0.6944 - val_recall: 0.6745\n"
        }
      ],
      "id": "t7Rco1S_v7_H"
    },
    {
      "cell_type": "code",
      "source": [
        "#Plotting graph\n",
        "import matplotlib.pyplot as plt\n",
        "plt.plot(history4.history['loss'],color='blue',label='train_loss')\n",
        "plt.plot(history4.history['val_loss'],color='orange',label='dev_loss')\n",
        "plt.legend(loc='upper left')\n",
        "plt.show()"
      ],
      "metadata": {
        "id": "5SQoSVGqv7_I",
        "outputId": "8703df09-e6dc-4b40-dac8-ee90bd714f18"
      },
      "execution_count": null,
      "outputs": [
        {
          "output_type": "display_data",
          "data": {
            "image/png": "[encoded data removed]",
            "text/plain": [
              "<Figure size 640x480 with 1 Axes>"
            ]
          },
          "metadata": {}
        }
      ],
      "id": "5SQoSVGqv7_I"
    },
    {
      "cell_type": "markdown",
      "source": [
        "#Applying model on dataset"
      ],
      "metadata": {
        "id": "MqK-Ytqj2pYh"
      },
      "id": "MqK-Ytqj2pYh"
    },
    {
      "cell_type": "code",
      "source": [
        "#Now we apply the second model on the test data\n",
        "from tensorflow.keras.applications import EfficientNetB2\n",
        "\n",
        "backbone = EfficientNetB2(\n",
        "    input_shape=(96, 96, 3),\n",
        "    include_top=False\n",
        ")\n",
        "\n",
        "model_test = tf.keras.Sequential([\n",
        "    backbone,\n",
        "    tf.keras.layers.Conv2D(256, 3, padding='same', activation='relu'),\n",
        "    tf.keras.layers.GlobalAveragePooling2D(),\n",
        "    tf.keras.layers.Dense(256, activation='relu'),\n",
        "    tf.keras.layers.Dropout(0.3),\n",
        "    tf.keras.layers.Dense(8, activation='sigmoid')\n",
        "])\n",
        "\n",
        "model_test.summary()"
      ],
      "metadata": {
        "colab": {
          "base_uri": "https://localhost:8080/"
        },
        "id": "3Y0tKLM7v7_I",
        "outputId": "3d5c0a2e-0940-409e-e30f-fad3eefbeb2b"
      },
      "execution_count": null,
      "outputs": [
        {
          "output_type": "stream",
          "name": "stdout",
          "text": [
            "Model: \"sequential_5\"\n",
            "_________________________________________________________________\n",
            " Layer (type)                Output Shape              Param #   \n",
            "=================================================================\n",
            " efficientnetb2 (Functional)  (None, 3, 3, 1408)       7768569   \n",
            "                                                                 \n",
            " conv2d_3 (Conv2D)           (None, 3, 3, 256)         3244288   \n",
            "                                                                 \n",
            " global_average_pooling2d_2   (None, 256)              0         \n",
            " (GlobalAveragePooling2D)                                        \n",
            "                                                                 \n",
            " dense_6 (Dense)             (None, 256)               65792     \n",
            "                                                                 \n",
            " dropout_3 (Dropout)         (None, 256)               0         \n",
            "                                                                 \n",
            " dense_7 (Dense)             (None, 8)                 2056      \n",
            "                                                                 \n",
            "=================================================================\n",
            "Total params: 11,080,705\n",
            "Trainable params: 11,013,130\n",
            "Non-trainable params: 67,575\n",
            "_________________________________________________________________\n"
          ]
        }
      ],
      "id": "3Y0tKLM7v7_I"
    },
    {
      "cell_type": "code",
      "source": [
        "model_test.compile(\n",
        "    optimizer=tf.keras.optimizers.Adam(learning_rate=0.001, beta_1=0.9, beta_2=0.999, epsilon=1e-07),\n",
        "    loss = 'binary_crossentropy',\n",
        "    metrics=['accuracy' , tf.keras.metrics.Precision(name='precision'),tf.keras.metrics.Recall(name='recall')]\n",
        ")"
      ],
      "metadata": {
        "id": "1rumeHP1v7_J"
      },
      "execution_count": null,
      "outputs": [],
      "id": "1rumeHP1v7_J"
    },
    {
      "cell_type": "code",
      "source": [
        "history_test = model_test.fit(\n",
        "    train_dataset,\n",
        "    steps_per_epoch=len(train_labels)//BATCH_SIZE,\n",
        "    epochs=12,\n",
        "    validation_data=test_dataset,\n",
        "    validation_steps = len(dev_labels)//BATCH_SIZE,\n",
        "    class_weight=class_weight\n",
        ")"
      ],
      "metadata": {
        "colab": {
          "base_uri": "https://localhost:8080/"
        },
        "id": "rRnRw7uOv7_J",
        "outputId": "b885d352-8b61-409b-d8a9-e96867be8c1b"
      },
      "execution_count": null,
      "outputs": [
        {
          "output_type": "stream",
          "name": "stdout",
          "text": [
            "Epoch 1/12\n",
            "37/37 [==============================] - 394s 9s/step - loss: 0.1228 - accuracy: 0.8412 - precision: 0.8184 - recall: 0.7956 - val_loss: 0.2440 - val_accuracy: 0.7826 - val_precision: 0.8198 - val_recall: 0.7760\n",
            "Epoch 2/12\n",
            "37/37 [==============================] - 11s 294ms/step - loss: 0.0453 - accuracy: 0.9563 - precision: 0.9569 - recall: 0.9512 - val_loss: 0.0507 - val_accuracy: 0.9609 - val_precision: 0.9606 - val_recall: 0.9531\n",
            "Epoch 3/12\n",
            "37/37 [==============================] - 13s 349ms/step - loss: 0.0315 - accuracy: 0.9747 - precision: 0.9730 - recall: 0.9705 - val_loss: 0.0799 - val_accuracy: 0.9622 - val_precision: 0.9621 - val_recall: 0.9596\n",
            "Epoch 4/12\n",
            "37/37 [==============================] - 13s 349ms/step - loss: 0.0213 - accuracy: 0.9803 - precision: 0.9807 - recall: 0.9790 - val_loss: 0.1342 - val_accuracy: 0.9284 - val_precision: 0.9281 - val_recall: 0.9245\n",
            "Epoch 5/12\n",
            "37/37 [==============================] - 12s 317ms/step - loss: 0.0214 - accuracy: 0.9837 - precision: 0.9816 - recall: 0.9795 - val_loss: 0.0334 - val_accuracy: 0.9635 - val_precision: 0.9736 - val_recall: 0.9596\n",
            "Epoch 6/12\n",
            "37/37 [==============================] - 11s 311ms/step - loss: 0.0064 - accuracy: 0.9932 - precision: 0.9931 - recall: 0.9910 - val_loss: 0.0352 - val_accuracy: 0.9792 - val_precision: 0.9792 - val_recall: 0.9792\n",
            "Epoch 7/12\n",
            "37/37 [==============================] - 11s 308ms/step - loss: 0.0101 - accuracy: 0.9902 - precision: 0.9897 - recall: 0.9863 - val_loss: 0.1069 - val_accuracy: 0.9544 - val_precision: 0.9544 - val_recall: 0.9531\n",
            "Epoch 8/12\n",
            "37/37 [==============================] - 12s 316ms/step - loss: 0.0266 - accuracy: 0.9807 - precision: 0.9836 - recall: 0.9769 - val_loss: 0.0356 - val_accuracy: 0.9727 - val_precision: 0.9748 - val_recall: 0.9583\n",
            "Epoch 9/12\n",
            "37/37 [==============================] - 11s 308ms/step - loss: 0.0154 - accuracy: 0.9854 - precision: 0.9845 - recall: 0.9816 - val_loss: 0.0209 - val_accuracy: 0.9922 - val_precision: 0.9935 - val_recall: 0.9896\n",
            "Epoch 10/12\n",
            "37/37 [==============================] - 13s 348ms/step - loss: 0.0104 - accuracy: 0.9936 - precision: 0.9944 - recall: 0.9923 - val_loss: 0.3677 - val_accuracy: 0.8945 - val_precision: 0.8919 - val_recall: 0.9023\n",
            "Epoch 11/12\n",
            "37/37 [==============================] - 12s 318ms/step - loss: 0.0193 - accuracy: 0.9816 - precision: 0.9819 - recall: 0.9769 - val_loss: 0.0345 - val_accuracy: 0.9596 - val_precision: 0.9597 - val_recall: 0.9622\n",
            "Epoch 12/12\n",
            "37/37 [==============================] - 12s 316ms/step - loss: 0.0085 - accuracy: 0.9919 - precision: 0.9914 - recall: 0.9910 - val_loss: 0.0364 - val_accuracy: 0.9701 - val_precision: 0.9714 - val_recall: 0.9714\n"
          ]
        }
      ],
      "id": "rRnRw7uOv7_J"
    },
    {
      "cell_type": "code",
      "source": [
        "#Plotting graph\n",
        "import matplotlib.pyplot as plt\n",
        "plt.plot(history_test.history['loss'],color='blue',label='train_loss')\n",
        "plt.plot(history_test.history['val_loss'],color='orange',label='test_loss')\n",
        "plt.legend(loc='upper left')\n",
        "plt.show()"
      ],
      "metadata": {
        "colab": {
          "base_uri": "https://localhost:8080/",
          "height": 430
        },
        "id": "wsZM6CRHv7_J",
        "outputId": "54d0b333-7bb2-4f1d-a987-908456ce74a2"
      },
      "execution_count": null,
      "outputs": [
        {
          "output_type": "display_data",
          "data": {
            "text/plain": [
              "<Figure size 640x480 with 1 Axes>"
            ],
            "image/png": "[encoded data removed]"
          },
          "metadata": {}
        }
      ],
      "id": "wsZM6CRHv7_J"
    },
    {
      "cell_type": "code",
      "source": [
        "df"
      ],
      "metadata": {
        "colab": {
          "base_uri": "https://localhost:8080/",
          "height": 424
        },
        "id": "YorTEFMtv7_K",
        "outputId": "50666af8-6e9f-412f-b587-ef4cb086203f"
      },
      "execution_count": null,
      "outputs": [
        {
          "output_type": "execute_result",
          "data": {
            "text/plain": [
              "                                               img_path       class_names\n",
              "0     /content/drive/MyDrive/Mini_Project/Mango_Data...  Bacterial Canker\n",
              "1     /content/drive/MyDrive/Mini_Project/Mango_Data...  Bacterial Canker\n",
              "2     /content/drive/MyDrive/Mini_Project/Mango_Data...  Bacterial Canker\n",
              "3     /content/drive/MyDrive/Mini_Project/Mango_Data...  Bacterial Canker\n",
              "4     /content/drive/MyDrive/Mini_Project/Mango_Data...  Bacterial Canker\n",
              "...                                                 ...               ...\n",
              "3995  /content/drive/MyDrive/Mini_Project/Mango_Data...       Sooty Mould\n",
              "3996  /content/drive/MyDrive/Mini_Project/Mango_Data...       Sooty Mould\n",
              "3997  /content/drive/MyDrive/Mini_Project/Mango_Data...       Sooty Mould\n",
              "3998  /content/drive/MyDrive/Mini_Project/Mango_Data...       Sooty Mould\n",
              "3999  /content/drive/MyDrive/Mini_Project/Mango_Data...       Sooty Mould\n",
              "\n",
              "[4000 rows x 2 columns]"
            ],
            "text/html": [
              "\n",
              "  <div id=\"df-7c7e63b5-728d-4993-a9ba-b9f0533da229\">\n",
              "    <div class=\"colab-df-container\">\n",
              "      <div>\n",
              "<style scoped>\n",
              "    .dataframe tbody tr th:only-of-type {\n",
              "        vertical-align: middle;\n",
              "    }\n",
              "\n",
              "    .dataframe tbody tr th {\n",
              "        vertical-align: top;\n",
              "    }\n",
              "\n",
              "    .dataframe thead th {\n",
              "        text-align: right;\n",
              "    }\n",
              "</style>\n",
              "<table border=\"1\" class=\"dataframe\">\n",
              "  <thead>\n",
              "    <tr style=\"text-align: right;\">\n",
              "      <th></th>\n",
              "      <th>img_path</th>\n",
              "      <th>class_names</th>\n",
              "    </tr>\n",
              "  </thead>\n",
              "  <tbody>\n",
              "    <tr>\n",
              "      <th>0</th>\n",
              "      <td>/content/drive/MyDrive/Mini_Project/Mango_Data...</td>\n",
              "      <td>Bacterial Canker</td>\n",
              "    </tr>\n",
              "    <tr>\n",
              "      <th>1</th>\n",
              "      <td>/content/drive/MyDrive/Mini_Project/Mango_Data...</td>\n",
              "      <td>Bacterial Canker</td>\n",
              "    </tr>\n",
              "    <tr>\n",
              "      <th>2</th>\n",
              "      <td>/content/drive/MyDrive/Mini_Project/Mango_Data...</td>\n",
              "      <td>Bacterial Canker</td>\n",
              "    </tr>\n",
              "    <tr>\n",
              "      <th>3</th>\n",
              "      <td>/content/drive/MyDrive/Mini_Project/Mango_Data...</td>\n",
              "      <td>Bacterial Canker</td>\n",
              "    </tr>\n",
              "    <tr>\n",
              "      <th>4</th>\n",
              "      <td>/content/drive/MyDrive/Mini_Project/Mango_Data...</td>\n",
              "      <td>Bacterial Canker</td>\n",
              "    </tr>\n",
              "    <tr>\n",
              "      <th>...</th>\n",
              "      <td>...</td>\n",
              "      <td>...</td>\n",
              "    </tr>\n",
              "    <tr>\n",
              "      <th>3995</th>\n",
              "      <td>/content/drive/MyDrive/Mini_Project/Mango_Data...</td>\n",
              "      <td>Sooty Mould</td>\n",
              "    </tr>\n",
              "    <tr>\n",
              "      <th>3996</th>\n",
              "      <td>/content/drive/MyDrive/Mini_Project/Mango_Data...</td>\n",
              "      <td>Sooty Mould</td>\n",
              "    </tr>\n",
              "    <tr>\n",
              "      <th>3997</th>\n",
              "      <td>/content/drive/MyDrive/Mini_Project/Mango_Data...</td>\n",
              "      <td>Sooty Mould</td>\n",
              "    </tr>\n",
              "    <tr>\n",
              "      <th>3998</th>\n",
              "      <td>/content/drive/MyDrive/Mini_Project/Mango_Data...</td>\n",
              "      <td>Sooty Mould</td>\n",
              "    </tr>\n",
              "    <tr>\n",
              "      <th>3999</th>\n",
              "      <td>/content/drive/MyDrive/Mini_Project/Mango_Data...</td>\n",
              "      <td>Sooty Mould</td>\n",
              "    </tr>\n",
              "  </tbody>\n",
              "</table>\n",
              "<p>4000 rows × 2 columns</p>\n",
              "</div>\n",
              "      <button class=\"colab-df-convert\" onclick=\"convertToInteractive('df-7c7e63b5-728d-4993-a9ba-b9f0533da229')\"\n",
              "              title=\"Convert this dataframe to an interactive table.\"\n",
              "              style=\"display:none;\">\n",
              "        \n",
              "  <svg xmlns=\"http://www.w3.org/2000/svg\" height=\"24px\"viewBox=\"0 0 24 24\"\n",
              "       width=\"24px\">\n",
              "    <path d=\"M0 0h24v24H0V0z\" fill=\"none\"/>\n",
              "    <path d=\"M18.56 5.44l.94 2.06.94-2.06 2.06-.94-2.06-.94-.94-2.06-.94 2.06-2.06.94zm-11 1L8.5 8.5l.94-2.06 2.06-.94-2.06-.94L8.5 2.5l-.94 2.06-2.06.94zm10 10l.94 2.06.94-2.06 2.06-.94-2.06-.94-.94-2.06-.94 2.06-2.06.94z\"/><path d=\"M17.41 7.96l-1.37-1.37c-.4-.4-.92-.59-1.43-.59-.52 0-1.04.2-1.43.59L10.3 9.45l-7.72 7.72c-.78.78-.78 2.05 0 2.83L4 21.41c.39.39.9.59 1.41.59.51 0 1.02-.2 1.41-.59l7.78-7.78 2.81-2.81c.8-.78.8-2.07 0-2.86zM5.41 20L4 18.59l7.72-7.72 1.47 1.35L5.41 20z\"/>\n",
              "  </svg>\n",
              "      </button>\n",
              "      \n",
              "  <style>\n",
              "    .colab-df-container {\n",
              "      display:flex;\n",
              "      flex-wrap:wrap;\n",
              "      gap: 12px;\n",
              "    }\n",
              "\n",
              "    .colab-df-convert {\n",
              "      background-color: #E8F0FE;\n",
              "      border: none;\n",
              "      border-radius: 50%;\n",
              "      cursor: pointer;\n",
              "      display: none;\n",
              "      fill: #1967D2;\n",
              "      height: 32px;\n",
              "      padding: 0 0 0 0;\n",
              "      width: 32px;\n",
              "    }\n",
              "\n",
              "    .colab-df-convert:hover {\n",
              "      background-color: #E2EBFA;\n",
              "      box-shadow: 0px 1px 2px rgba(60, 64, 67, 0.3), 0px 1px 3px 1px rgba(60, 64, 67, 0.15);\n",
              "      fill: #174EA6;\n",
              "    }\n",
              "\n",
              "    [theme=dark] .colab-df-convert {\n",
              "      background-color: #3B4455;\n",
              "      fill: #D2E3FC;\n",
              "    }\n",
              "\n",
              "    [theme=dark] .colab-df-convert:hover {\n",
              "      background-color: #434B5C;\n",
              "      box-shadow: 0px 1px 3px 1px rgba(0, 0, 0, 0.15);\n",
              "      filter: drop-shadow(0px 1px 2px rgba(0, 0, 0, 0.3));\n",
              "      fill: #FFFFFF;\n",
              "    }\n",
              "  </style>\n",
              "\n",
              "      <script>\n",
              "        const buttonEl =\n",
              "          document.querySelector('#df-7c7e63b5-728d-4993-a9ba-b9f0533da229 button.colab-df-convert');\n",
              "        buttonEl.style.display =\n",
              "          google.colab.kernel.accessAllowed ? 'block' : 'none';\n",
              "\n",
              "        async function convertToInteractive(key) {\n",
              "          const element = document.querySelector('#df-7c7e63b5-728d-4993-a9ba-b9f0533da229');\n",
              "          const dataTable =\n",
              "            await google.colab.kernel.invokeFunction('convertToInteractive',\n",
              "                                                     [key], {});\n",
              "          if (!dataTable) return;\n",
              "\n",
              "          const docLinkHtml = 'Like what you see? Visit the ' +\n",
              "            '<a target=\"_blank\" href=https://colab.research.google.com/notebooks/data_table.ipynb>data table notebook</a>'\n",
              "            + ' to learn more about interactive tables.';\n",
              "          element.innerHTML = '';\n",
              "          dataTable['output_type'] = 'display_data';\n",
              "          await google.colab.output.renderOutput(dataTable, element);\n",
              "          const docLink = document.createElement('div');\n",
              "          docLink.innerHTML = docLinkHtml;\n",
              "          element.appendChild(docLink);\n",
              "        }\n",
              "      </script>\n",
              "    </div>\n",
              "  </div>\n",
              "  "
            ]
          },
          "metadata": {},
          "execution_count": 47
        }
      ],
      "id": "YorTEFMtv7_K"
    },
    {
      "cell_type": "code",
      "source": [
        "#Convert the image path to pixels\n",
        "df['img_data'] = [cv2.imread(img_path) for img_path in df['img_path']]"
      ],
      "metadata": {
        "id": "0j1c5TIJv7_K"
      },
      "execution_count": null,
      "outputs": [],
      "id": "0j1c5TIJv7_K"
    },
    {
      "cell_type": "code",
      "source": [
        "df.head()"
      ],
      "metadata": {
        "colab": {
          "base_uri": "https://localhost:8080/",
          "height": 206
        },
        "id": "TyJs1z5Ov7_K",
        "outputId": "6280a32a-2d37-4e1f-f671-71ddca08d490"
      },
      "execution_count": null,
      "outputs": [
        {
          "output_type": "execute_result",
          "data": {
            "text/plain": [
              "                                            img_path       class_names  \\\n",
              "0  /content/drive/MyDrive/Mini_Project/Mango_Data...  Bacterial Canker   \n",
              "1  /content/drive/MyDrive/Mini_Project/Mango_Data...  Bacterial Canker   \n",
              "2  /content/drive/MyDrive/Mini_Project/Mango_Data...  Bacterial Canker   \n",
              "3  /content/drive/MyDrive/Mini_Project/Mango_Data...  Bacterial Canker   \n",
              "4  /content/drive/MyDrive/Mini_Project/Mango_Data...  Bacterial Canker   \n",
              "\n",
              "                                            img_data  \n",
              "0  [[[203, 203, 203], [203, 203, 203], [203, 203,...  \n",
              "1  [[[202, 202, 202], [203, 203, 203], [203, 203,...  \n",
              "2  [[[214, 216, 216], [213, 215, 215], [212, 214,...  \n",
              "3  [[[247, 248, 246], [248, 249, 247], [248, 249,...  \n",
              "4  [[[191, 192, 190], [191, 192, 190], [190, 191,...  "
            ],
            "text/html": [
              "\n",
              "  <div id=\"df-7d809461-2209-4f2a-98a2-b401b4a51f7d\">\n",
              "    <div class=\"colab-df-container\">\n",
              "      <div>\n",
              "<style scoped>\n",
              "    .dataframe tbody tr th:only-of-type {\n",
              "        vertical-align: middle;\n",
              "    }\n",
              "\n",
              "    .dataframe tbody tr th {\n",
              "        vertical-align: top;\n",
              "    }\n",
              "\n",
              "    .dataframe thead th {\n",
              "        text-align: right;\n",
              "    }\n",
              "</style>\n",
              "<table border=\"1\" class=\"dataframe\">\n",
              "  <thead>\n",
              "    <tr style=\"text-align: right;\">\n",
              "      <th></th>\n",
              "      <th>img_path</th>\n",
              "      <th>class_names</th>\n",
              "      <th>img_data</th>\n",
              "    </tr>\n",
              "  </thead>\n",
              "  <tbody>\n",
              "    <tr>\n",
              "      <th>0</th>\n",
              "      <td>/content/drive/MyDrive/Mini_Project/Mango_Data...</td>\n",
              "      <td>Bacterial Canker</td>\n",
              "      <td>[[[203, 203, 203], [203, 203, 203], [203, 203,...</td>\n",
              "    </tr>\n",
              "    <tr>\n",
              "      <th>1</th>\n",
              "      <td>/content/drive/MyDrive/Mini_Project/Mango_Data...</td>\n",
              "      <td>Bacterial Canker</td>\n",
              "      <td>[[[202, 202, 202], [203, 203, 203], [203, 203,...</td>\n",
              "    </tr>\n",
              "    <tr>\n",
              "      <th>2</th>\n",
              "      <td>/content/drive/MyDrive/Mini_Project/Mango_Data...</td>\n",
              "      <td>Bacterial Canker</td>\n",
              "      <td>[[[214, 216, 216], [213, 215, 215], [212, 214,...</td>\n",
              "    </tr>\n",
              "    <tr>\n",
              "      <th>3</th>\n",
              "      <td>/content/drive/MyDrive/Mini_Project/Mango_Data...</td>\n",
              "      <td>Bacterial Canker</td>\n",
              "      <td>[[[247, 248, 246], [248, 249, 247], [248, 249,...</td>\n",
              "    </tr>\n",
              "    <tr>\n",
              "      <th>4</th>\n",
              "      <td>/content/drive/MyDrive/Mini_Project/Mango_Data...</td>\n",
              "      <td>Bacterial Canker</td>\n",
              "      <td>[[[191, 192, 190], [191, 192, 190], [190, 191,...</td>\n",
              "    </tr>\n",
              "  </tbody>\n",
              "</table>\n",
              "</div>\n",
              "      <button class=\"colab-df-convert\" onclick=\"convertToInteractive('df-7d809461-2209-4f2a-98a2-b401b4a51f7d')\"\n",
              "              title=\"Convert this dataframe to an interactive table.\"\n",
              "              style=\"display:none;\">\n",
              "        \n",
              "  <svg xmlns=\"http://www.w3.org/2000/svg\" height=\"24px\"viewBox=\"0 0 24 24\"\n",
              "       width=\"24px\">\n",
              "    <path d=\"M0 0h24v24H0V0z\" fill=\"none\"/>\n",
              "    <path d=\"M18.56 5.44l.94 2.06.94-2.06 2.06-.94-2.06-.94-.94-2.06-.94 2.06-2.06.94zm-11 1L8.5 8.5l.94-2.06 2.06-.94-2.06-.94L8.5 2.5l-.94 2.06-2.06.94zm10 10l.94 2.06.94-2.06 2.06-.94-2.06-.94-.94-2.06-.94 2.06-2.06.94z\"/><path d=\"M17.41 7.96l-1.37-1.37c-.4-.4-.92-.59-1.43-.59-.52 0-1.04.2-1.43.59L10.3 9.45l-7.72 7.72c-.78.78-.78 2.05 0 2.83L4 21.41c.39.39.9.59 1.41.59.51 0 1.02-.2 1.41-.59l7.78-7.78 2.81-2.81c.8-.78.8-2.07 0-2.86zM5.41 20L4 18.59l7.72-7.72 1.47 1.35L5.41 20z\"/>\n",
              "  </svg>\n",
              "      </button>\n",
              "      \n",
              "  <style>\n",
              "    .colab-df-container {\n",
              "      display:flex;\n",
              "      flex-wrap:wrap;\n",
              "      gap: 12px;\n",
              "    }\n",
              "\n",
              "    .colab-df-convert {\n",
              "      background-color: #E8F0FE;\n",
              "      border: none;\n",
              "      border-radius: 50%;\n",
              "      cursor: pointer;\n",
              "      display: none;\n",
              "      fill: #1967D2;\n",
              "      height: 32px;\n",
              "      padding: 0 0 0 0;\n",
              "      width: 32px;\n",
              "    }\n",
              "\n",
              "    .colab-df-convert:hover {\n",
              "      background-color: #E2EBFA;\n",
              "      box-shadow: 0px 1px 2px rgba(60, 64, 67, 0.3), 0px 1px 3px 1px rgba(60, 64, 67, 0.15);\n",
              "      fill: #174EA6;\n",
              "    }\n",
              "\n",
              "    [theme=dark] .colab-df-convert {\n",
              "      background-color: #3B4455;\n",
              "      fill: #D2E3FC;\n",
              "    }\n",
              "\n",
              "    [theme=dark] .colab-df-convert:hover {\n",
              "      background-color: #434B5C;\n",
              "      box-shadow: 0px 1px 3px 1px rgba(0, 0, 0, 0.15);\n",
              "      filter: drop-shadow(0px 1px 2px rgba(0, 0, 0, 0.3));\n",
              "      fill: #FFFFFF;\n",
              "    }\n",
              "  </style>\n",
              "\n",
              "      <script>\n",
              "        const buttonEl =\n",
              "          document.querySelector('#df-7d809461-2209-4f2a-98a2-b401b4a51f7d button.colab-df-convert');\n",
              "        buttonEl.style.display =\n",
              "          google.colab.kernel.accessAllowed ? 'block' : 'none';\n",
              "\n",
              "        async function convertToInteractive(key) {\n",
              "          const element = document.querySelector('#df-7d809461-2209-4f2a-98a2-b401b4a51f7d');\n",
              "          const dataTable =\n",
              "            await google.colab.kernel.invokeFunction('convertToInteractive',\n",
              "                                                     [key], {});\n",
              "          if (!dataTable) return;\n",
              "\n",
              "          const docLinkHtml = 'Like what you see? Visit the ' +\n",
              "            '<a target=\"_blank\" href=https://colab.research.google.com/notebooks/data_table.ipynb>data table notebook</a>'\n",
              "            + ' to learn more about interactive tables.';\n",
              "          element.innerHTML = '';\n",
              "          dataTable['output_type'] = 'display_data';\n",
              "          await google.colab.output.renderOutput(dataTable, element);\n",
              "          const docLink = document.createElement('div');\n",
              "          docLink.innerHTML = docLinkHtml;\n",
              "          element.appendChild(docLink);\n",
              "        }\n",
              "      </script>\n",
              "    </div>\n",
              "  </div>\n",
              "  "
            ]
          },
          "metadata": {},
          "execution_count": 49
        }
      ],
      "id": "TyJs1z5Ov7_K"
    },
    {
      "cell_type": "code",
      "source": [
        "df['img_data'][0]"
      ],
      "metadata": {
        "colab": {
          "base_uri": "https://localhost:8080/"
        },
        "id": "SjK63WULv7_L",
        "outputId": "ae6b928b-0792-4caf-9c05-0c17fd28a8b8"
      },
      "execution_count": null,
      "outputs": [
        {
          "output_type": "execute_result",
          "data": {
            "text/plain": [
              "array([[[203, 203, 203],\n",
              "        [203, 203, 203],\n",
              "        [203, 203, 203],\n",
              "        ...,\n",
              "        [197, 197, 197],\n",
              "        [196, 196, 196],\n",
              "        [196, 196, 196]],\n",
              "\n",
              "       [[203, 203, 203],\n",
              "        [203, 203, 203],\n",
              "        [204, 204, 204],\n",
              "        ...,\n",
              "        [198, 198, 198],\n",
              "        [197, 197, 197],\n",
              "        [197, 197, 197]],\n",
              "\n",
              "       [[203, 203, 203],\n",
              "        [204, 204, 204],\n",
              "        [204, 204, 204],\n",
              "        ...,\n",
              "        [199, 199, 199],\n",
              "        [199, 199, 199],\n",
              "        [199, 199, 199]],\n",
              "\n",
              "       ...,\n",
              "\n",
              "       [[183, 185, 186],\n",
              "        [185, 187, 188],\n",
              "        [188, 190, 191],\n",
              "        ...,\n",
              "        [133, 145, 151],\n",
              "        [131, 143, 149],\n",
              "        [130, 142, 148]],\n",
              "\n",
              "       [[183, 185, 186],\n",
              "        [186, 188, 189],\n",
              "        [190, 192, 193],\n",
              "        ...,\n",
              "        [129, 141, 147],\n",
              "        [129, 141, 147],\n",
              "        [130, 142, 148]],\n",
              "\n",
              "       [[182, 184, 185],\n",
              "        [187, 189, 190],\n",
              "        [191, 193, 194],\n",
              "        ...,\n",
              "        [125, 137, 143],\n",
              "        [126, 138, 144],\n",
              "        [129, 141, 147]]], dtype=uint8)"
            ]
          },
          "metadata": {},
          "execution_count": 50
        }
      ],
      "id": "SjK63WULv7_L"
    },
    {
      "cell_type": "code",
      "source": [
        "from skimage.transform import resize\n",
        "\n",
        "img_data_flat = np.array([resize(img, (100, 100)).flatten() for img in df['img_data']])\n",
        "print(img_data_flat)"
      ],
      "metadata": {
        "colab": {
          "base_uri": "https://localhost:8080/"
        },
        "id": "y7rstMYvv7_L",
        "outputId": "7457f18c-f052-439c-90df-fbd8d0a2212f"
      },
      "execution_count": null,
      "outputs": [
        {
          "output_type": "stream",
          "name": "stdout",
          "text": [
            "[[0.79690048 0.79690048 0.79690048 ... 0.5074435  0.55443862 0.57809544]\n",
            " [0.79697362 0.79697362 0.79697362 ... 0.61327342 0.62111656 0.65248911]\n",
            " [0.82913117 0.83697431 0.83697431 ... 0.68572126 0.70153483 0.72114267]\n",
            " ...\n",
            " [0.78076926 0.77292612 0.77292612 ... 0.84334471 0.81197216 0.81197216]\n",
            " [0.95284943 0.95284943 0.95284943 ... 0.91939888 0.89979103 0.90763417]\n",
            " [0.95749843 0.93539385 0.93931542 ... 0.68409914 0.72331482 0.72331482]]\n"
          ]
        }
      ],
      "id": "y7rstMYvv7_L"
    },
    {
      "cell_type": "markdown",
      "source": [
        "#Finding Accuracy"
      ],
      "metadata": {
        "id": "PJAzc4hb3o4o"
      },
      "id": "PJAzc4hb3o4o"
    },
    {
      "cell_type": "code",
      "source": [
        "from sklearn.neighbors import KNeighborsClassifier\n",
        "neigh = KNeighborsClassifier(n_neighbors=3)\n",
        "neigh.fit(img_data_flat, df['class_names'])\n",
        "accuracy = neigh.score(img_data_flat, df['class_names'])\n",
        "print(\"Accuracy: \", accuracy)"
      ],
      "metadata": {
        "colab": {
          "base_uri": "https://localhost:8080/"
        },
        "id": "3WByPxKOv7_L",
        "outputId": "af593edf-df79-41e0-dd9c-e4209576ade3"
      },
      "execution_count": null,
      "outputs": [
        {
          "output_type": "stream",
          "name": "stdout",
          "text": [
            "Accuracy:  0.853\n"
          ]
        }
      ],
      "id": "3WByPxKOv7_L"
    },
    {
      "cell_type": "code",
      "source": [
        "neigh1 = KNeighborsClassifier(n_neighbors=5)\n",
        "neigh1.fit(img_data_flat, df['class_names'])\n",
        "accuracy = neigh1.score(img_data_flat, df['class_names'])\n",
        "print(\"Accuracy: \", accuracy)"
      ],
      "metadata": {
        "colab": {
          "base_uri": "https://localhost:8080/"
        },
        "id": "vktDkiYzv7_M",
        "outputId": "d16995b1-fbb2-432b-8286-6e1135e24a3f"
      },
      "execution_count": null,
      "outputs": [
        {
          "output_type": "stream",
          "name": "stdout",
          "text": [
            "Accuracy:  0.78725\n"
          ]
        }
      ],
      "id": "vktDkiYzv7_M"
    },
    {
      "cell_type": "code",
      "source": [
        "neigh2 = KNeighborsClassifier(n_neighbors=7)\n",
        "neigh2.fit(img_data_flat, df['class_names'])\n",
        "accuracy = neigh2.score(img_data_flat, df['class_names'])\n",
        "print(\"Accuracy: \", accuracy)"
      ],
      "metadata": {
        "colab": {
          "base_uri": "https://localhost:8080/"
        },
        "id": "VofUETMZv7_M",
        "outputId": "852d3828-996d-4d4e-c1d2-e998e80be2ae"
      },
      "execution_count": null,
      "outputs": [
        {
          "output_type": "stream",
          "name": "stdout",
          "text": [
            "Accuracy:  0.76625\n"
          ]
        }
      ],
      "id": "VofUETMZv7_M"
    },
    {
      "cell_type": "code",
      "source": [
        "neigh3 = KNeighborsClassifier(n_neighbors=9)\n",
        "neigh3.fit(img_data_flat, df['class_names'])\n",
        "accuracy = neigh3.score(img_data_flat, df['class_names'])\n",
        "print(\"Accuracy: \", accuracy)"
      ],
      "metadata": {
        "colab": {
          "base_uri": "https://localhost:8080/"
        },
        "id": "SAChWhVbv7_M",
        "outputId": "7e578558-9e0a-43bf-f9e6-38a581d5acab"
      },
      "execution_count": null,
      "outputs": [
        {
          "output_type": "stream",
          "name": "stdout",
          "text": [
            "Accuracy:  0.73675\n"
          ]
        }
      ],
      "id": "SAChWhVbv7_M"
    },
    {
      "cell_type": "code",
      "source": [
        "neigh4 = KNeighborsClassifier(n_neighbors=11)\n",
        "neigh4.fit(img_data_flat, df['class_names'])\n",
        "accuracy = neigh4.score(img_data_flat, df['class_names'])\n",
        "print(\"Accuracy: \", accuracy)"
      ],
      "metadata": {
        "colab": {
          "base_uri": "https://localhost:8080/"
        },
        "id": "IthEXdCHv7_N",
        "outputId": "9397208c-aa8d-484f-f4af-b364020bd6de"
      },
      "execution_count": null,
      "outputs": [
        {
          "output_type": "stream",
          "name": "stdout",
          "text": [
            "Accuracy:  0.7255\n"
          ]
        }
      ],
      "id": "IthEXdCHv7_N"
    },
    {
      "cell_type": "code",
      "source": [
        "neigh5 = KNeighborsClassifier(n_neighbors=13)\n",
        "neigh5.fit(img_data_flat, df['class_names'])\n",
        "accuracy = neigh5.score(img_data_flat, df['class_names'])\n",
        "print(\"Accuracy: \", accuracy)"
      ],
      "metadata": {
        "colab": {
          "base_uri": "https://localhost:8080/"
        },
        "id": "1YXfi9qRv7_N",
        "outputId": "22e6fd0a-9b04-40fc-a886-e2094c8541fc"
      },
      "execution_count": null,
      "outputs": [
        {
          "output_type": "stream",
          "name": "stdout",
          "text": [
            "Accuracy:  0.712\n"
          ]
        }
      ],
      "id": "1YXfi9qRv7_N"
    },
    {
      "cell_type": "code",
      "source": [
        "neigh6 = KNeighborsClassifier(n_neighbors=15)\n",
        "neigh6.fit(img_data_flat, df['class_names'])\n",
        "accuracy = neigh6.score(img_data_flat, df['class_names'])\n",
        "print(\"Accuracy: \", accuracy)"
      ],
      "metadata": {
        "colab": {
          "base_uri": "https://localhost:8080/"
        },
        "id": "qj_Qpk19v7_O",
        "outputId": "05ee503e-2674-41d5-d440-43d5b4136767"
      },
      "execution_count": null,
      "outputs": [
        {
          "output_type": "stream",
          "name": "stdout",
          "text": [
            "Accuracy:  0.70175\n"
          ]
        }
      ],
      "id": "qj_Qpk19v7_O"
    },
    {
      "cell_type": "code",
      "source": [
        "#Plot a graph for neighbors vs accuracy\n",
        "x=[3,5,7,9,11,13,15]\n",
        "y=[0.8535,0.78725,0.76425,0.73525,0.725,0.712,\n",
        "   0.70175]\n",
        "plt.xlabel(\"Nieghbors\")\n",
        "plt.ylabel(\"Accurcay\")\n",
        "plt.plot(x,y)"
      ],
      "metadata": {
        "colab": {
          "base_uri": "https://localhost:8080/",
          "height": 469
        },
        "id": "kqagccgyv7_O",
        "outputId": "91a519f5-47ac-4093-b9f5-c9f5f2051c1a"
      },
      "execution_count": null,
      "outputs": [
        {
          "output_type": "execute_result",
          "data": {
            "text/plain": [
              "[<matplotlib.lines.Line2D at 0x7f6c9c6eea70>]"
            ]
          },
          "metadata": {},
          "execution_count": 59
        },
        {
          "output_type": "display_data",
          "data": {
            "text/plain": [
              "<Figure size 640x480 with 1 Axes>"
            ],
            "image/png": "[encoded data removed]"
          },
          "metadata": {}
        }
      ],
      "id": "kqagccgyv7_O"
    }
  ]
}